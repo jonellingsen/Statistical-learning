{
 "cells": [
  {
   "cell_type": "markdown",
   "metadata": {},
   "source": [
    "# STK4030 Final project"
   ]
  },
  {
   "cell_type": "markdown",
   "metadata": {},
   "source": [
    "## Setup"
   ]
  },
  {
   "cell_type": "code",
   "execution_count": 8,
   "metadata": {},
   "outputs": [
    {
     "name": "stderr",
     "output_type": "stream",
     "text": [
      "Loading required package: lattice\n",
      "Loading required package: ggplot2\n",
      "\n",
      "Attaching package: ‘caret’\n",
      "\n",
      "The following object is masked _by_ ‘.GlobalEnv’:\n",
      "\n",
      "    RMSE\n",
      "\n"
     ]
    }
   ],
   "source": [
    "library(caret)\n",
    "set.seed(4030)"
   ]
  },
  {
   "cell_type": "markdown",
   "metadata": {},
   "source": [
    "## Helper functions"
   ]
  },
  {
   "cell_type": "code",
   "execution_count": 4,
   "metadata": {
    "collapsed": true
   },
   "outputs": [],
   "source": [
    "AllColumnsExcept = function(data, col.names) {\n",
    "    columns = !(names(data) %in% col.names)\n",
    "    return(data[, columns])\n",
    "}"
   ]
  },
  {
   "cell_type": "code",
   "execution_count": 5,
   "metadata": {
    "collapsed": true
   },
   "outputs": [],
   "source": [
    "SortData = function(data) {\n",
    "    data.as.df = as.data.frame(data)\n",
    "    sorted.data = data.as.df[with(data.as.df, order(-abs(data.as.df[, 1]))), , drop = FALSE]\n",
    "    return(sorted.data)\n",
    "}"
   ]
  },
  {
   "cell_type": "markdown",
   "metadata": {},
   "source": [
    "## Exercise 1"
   ]
  },
  {
   "cell_type": "markdown",
   "metadata": {},
   "source": [
    "### Load data"
   ]
  },
  {
   "cell_type": "code",
   "execution_count": 6,
   "metadata": {
    "collapsed": true
   },
   "outputs": [],
   "source": [
    "load(\"bostonhousing.rdata\")\n",
    "\n",
    "training.data = data[data$train == TRUE, ]\n",
    "training.data = AllColumnsExcept(training.data, 'train')\n",
    "\n",
    "test.data = data[data$train == FALSE, ]\n",
    "test.data = AllColumnsExcept(test.data, 'train')"
   ]
  },
  {
   "cell_type": "markdown",
   "metadata": {
    "collapsed": true
   },
   "source": [
    "### 1.1 Linear regression\n",
    "\n",
    "*Estimate a linear Gaussian regression model including all 14 independent variables by (ordinary) least squares (OLS) on the training set.*"
   ]
  },
  {
   "cell_type": "code",
   "execution_count": 7,
   "metadata": {
    "collapsed": true
   },
   "outputs": [],
   "source": [
    "lgr.model = lm(y ~ ., training.data)"
   ]
  },
  {
   "cell_type": "markdown",
   "metadata": {},
   "source": [
    "*Report the estimated coefficients.*"
   ]
  },
  {
   "cell_type": "code",
   "execution_count": 8,
   "metadata": {},
   "outputs": [
    {
     "data": {
      "text/html": [
       "<dl class=dl-horizontal>\n",
       "\t<dt>(Intercept)</dt>\n",
       "\t\t<dd>4.42690623817788</dd>\n",
       "\t<dt>crim</dt>\n",
       "\t\t<dd>-0.00927423054081376</dd>\n",
       "\t<dt>zn</dt>\n",
       "\t\t<dd>0.00145574388611928</dd>\n",
       "\t<dt>indus</dt>\n",
       "\t\t<dd>0.00359238539495567</dd>\n",
       "\t<dt>chas</dt>\n",
       "\t\t<dd>0.122662940426418</dd>\n",
       "\t<dt>nox</dt>\n",
       "\t\t<dd>-0.670726734613593</dd>\n",
       "\t<dt>rm</dt>\n",
       "\t\t<dd>0.0699878708141004</dd>\n",
       "\t<dt>age</dt>\n",
       "\t\t<dd>0.000101122280223083</dd>\n",
       "\t<dt>dis</dt>\n",
       "\t\t<dd>-0.0619332910535991</dd>\n",
       "\t<dt>rad</dt>\n",
       "\t\t<dd>0.0144673164108677</dd>\n",
       "\t<dt>tax</dt>\n",
       "\t\t<dd>-0.000598296726043733</dd>\n",
       "\t<dt>ptratio</dt>\n",
       "\t\t<dd>-0.0355678980259806</dd>\n",
       "\t<dt>bk</dt>\n",
       "\t\t<dd>-0.399291643241476</dd>\n",
       "\t<dt>lstat</dt>\n",
       "\t\t<dd>-0.0363929598334403</dd>\n",
       "\t<dt>part</dt>\n",
       "\t\t<dd>-0.00892720545595114</dd>\n",
       "</dl>\n"
      ],
      "text/latex": [
       "\\begin{description*}\n",
       "\\item[(Intercept)] 4.42690623817788\n",
       "\\item[crim] -0.00927423054081376\n",
       "\\item[zn] 0.00145574388611928\n",
       "\\item[indus] 0.00359238539495567\n",
       "\\item[chas] 0.122662940426418\n",
       "\\item[nox] -0.670726734613593\n",
       "\\item[rm] 0.0699878708141004\n",
       "\\item[age] 0.000101122280223083\n",
       "\\item[dis] -0.0619332910535991\n",
       "\\item[rad] 0.0144673164108677\n",
       "\\item[tax] -0.000598296726043733\n",
       "\\item[ptratio] -0.0355678980259806\n",
       "\\item[bk] -0.399291643241476\n",
       "\\item[lstat] -0.0363929598334403\n",
       "\\item[part] -0.00892720545595114\n",
       "\\end{description*}\n"
      ],
      "text/markdown": [
       "(Intercept)\n",
       ":   4.42690623817788crim\n",
       ":   -0.00927423054081376zn\n",
       ":   0.00145574388611928indus\n",
       ":   0.00359238539495567chas\n",
       ":   0.122662940426418nox\n",
       ":   -0.670726734613593rm\n",
       ":   0.0699878708141004age\n",
       ":   0.000101122280223083dis\n",
       ":   -0.0619332910535991rad\n",
       ":   0.0144673164108677tax\n",
       ":   -0.000598296726043733ptratio\n",
       ":   -0.0355678980259806bk\n",
       ":   -0.399291643241476lstat\n",
       ":   -0.0363929598334403part\n",
       ":   -0.00892720545595114\n",
       "\n"
      ],
      "text/plain": [
       "  (Intercept)          crim            zn         indus          chas \n",
       " 4.4269062382 -0.0092742305  0.0014557439  0.0035923854  0.1226629404 \n",
       "          nox            rm           age           dis           rad \n",
       "-0.6707267346  0.0699878708  0.0001011223 -0.0619332911  0.0144673164 \n",
       "          tax       ptratio            bk         lstat          part \n",
       "-0.0005982967 -0.0355678980 -0.3992916432 -0.0363929598 -0.0089272055 "
      ]
     },
     "metadata": {},
     "output_type": "display_data"
    }
   ],
   "source": [
    "lgr.model$coefficients"
   ]
  },
  {
   "cell_type": "markdown",
   "metadata": {},
   "source": [
    "*Which covariates have the strongest association with y? In particular, the study focused on the effect of air pollution, measured through the concentrations of nitrogen oxide pollutants (nox) and particulate (part).*"
   ]
  },
  {
   "cell_type": "markdown",
   "metadata": {},
   "source": [
    "#### Correlations"
   ]
  },
  {
   "cell_type": "code",
   "execution_count": 9,
   "metadata": {},
   "outputs": [
    {
     "data": {
      "text/html": [
       "<table>\n",
       "<thead><tr><th></th><th scope=col>y</th></tr></thead>\n",
       "<tbody>\n",
       "\t<tr><th scope=row>y</th><td> 1.00000000</td></tr>\n",
       "\t<tr><th scope=row>lstat</th><td>-0.84057651</td></tr>\n",
       "\t<tr><th scope=row>rm</th><td> 0.62856668</td></tr>\n",
       "\t<tr><th scope=row>tax</th><td>-0.56875320</td></tr>\n",
       "\t<tr><th scope=row>indus</th><td>-0.55433246</td></tr>\n",
       "\t<tr><th scope=row>nox</th><td>-0.52532741</td></tr>\n",
       "\t<tr><th scope=row>crim</th><td>-0.52429359</td></tr>\n",
       "\t<tr><th scope=row>ptratio</th><td>-0.50639657</td></tr>\n",
       "\t<tr><th scope=row>rad</th><td>-0.49478292</td></tr>\n",
       "\t<tr><th scope=row>age</th><td>-0.48137089</td></tr>\n",
       "\t<tr><th scope=row>zn</th><td> 0.36959386</td></tr>\n",
       "\t<tr><th scope=row>bk</th><td>-0.36270280</td></tr>\n",
       "\t<tr><th scope=row>dis</th><td> 0.35188624</td></tr>\n",
       "\t<tr><th scope=row>chas</th><td> 0.14996797</td></tr>\n",
       "\t<tr><th scope=row>part</th><td>-0.06511261</td></tr>\n",
       "</tbody>\n",
       "</table>\n"
      ],
      "text/latex": [
       "\\begin{tabular}{r|l}\n",
       "  & y\\\\\n",
       "\\hline\n",
       "\ty &  1.00000000\\\\\n",
       "\tlstat & -0.84057651\\\\\n",
       "\trm &  0.62856668\\\\\n",
       "\ttax & -0.56875320\\\\\n",
       "\tindus & -0.55433246\\\\\n",
       "\tnox & -0.52532741\\\\\n",
       "\tcrim & -0.52429359\\\\\n",
       "\tptratio & -0.50639657\\\\\n",
       "\trad & -0.49478292\\\\\n",
       "\tage & -0.48137089\\\\\n",
       "\tzn &  0.36959386\\\\\n",
       "\tbk & -0.36270280\\\\\n",
       "\tdis &  0.35188624\\\\\n",
       "\tchas &  0.14996797\\\\\n",
       "\tpart & -0.06511261\\\\\n",
       "\\end{tabular}\n"
      ],
      "text/markdown": [
       "\n",
       "| <!--/--> | y | \n",
       "|---|---|---|---|---|---|---|---|---|---|---|---|---|---|---|\n",
       "| y |  1.00000000 | \n",
       "| lstat | -0.84057651 | \n",
       "| rm |  0.62856668 | \n",
       "| tax | -0.56875320 | \n",
       "| indus | -0.55433246 | \n",
       "| nox | -0.52532741 | \n",
       "| crim | -0.52429359 | \n",
       "| ptratio | -0.50639657 | \n",
       "| rad | -0.49478292 | \n",
       "| age | -0.48137089 | \n",
       "| zn |  0.36959386 | \n",
       "| bk | -0.36270280 | \n",
       "| dis |  0.35188624 | \n",
       "| chas |  0.14996797 | \n",
       "| part | -0.06511261 | \n",
       "\n",
       "\n"
      ],
      "text/plain": [
       "        y          \n",
       "y        1.00000000\n",
       "lstat   -0.84057651\n",
       "rm       0.62856668\n",
       "tax     -0.56875320\n",
       "indus   -0.55433246\n",
       "nox     -0.52532741\n",
       "crim    -0.52429359\n",
       "ptratio -0.50639657\n",
       "rad     -0.49478292\n",
       "age     -0.48137089\n",
       "zn       0.36959386\n",
       "bk      -0.36270280\n",
       "dis      0.35188624\n",
       "chas     0.14996797\n",
       "part    -0.06511261"
      ]
     },
     "metadata": {},
     "output_type": "display_data"
    }
   ],
   "source": [
    "correlations = cor(training.data, training.data['y'], method = \"pearson\")\n",
    "SortData(correlations)"
   ]
  },
  {
   "cell_type": "markdown",
   "metadata": {},
   "source": [
    "#### Coefficients on a standardized regression model"
   ]
  },
  {
   "cell_type": "code",
   "execution_count": 10,
   "metadata": {},
   "outputs": [
    {
     "data": {
      "text/html": [
       "<table>\n",
       "<thead><tr><th></th><th scope=col>data</th></tr></thead>\n",
       "<tbody>\n",
       "\t<tr><th scope=row>lstat</th><td>-6.245181e-01</td></tr>\n",
       "\t<tr><th scope=row>rad</th><td> 3.162886e-01</td></tr>\n",
       "\t<tr><th scope=row>dis</th><td>-3.095360e-01</td></tr>\n",
       "\t<tr><th scope=row>tax</th><td>-2.538477e-01</td></tr>\n",
       "\t<tr><th scope=row>crim</th><td>-2.029852e-01</td></tr>\n",
       "\t<tr><th scope=row>nox</th><td>-1.977650e-01</td></tr>\n",
       "\t<tr><th scope=row>ptratio</th><td>-1.907376e-01</td></tr>\n",
       "\t<tr><th scope=row>rm</th><td> 1.197933e-01</td></tr>\n",
       "\t<tr><th scope=row>bk</th><td>-1.135118e-01</td></tr>\n",
       "\t<tr><th scope=row>zn</th><td> 8.091898e-02</td></tr>\n",
       "\t<tr><th scope=row>chas</th><td> 7.792639e-02</td></tr>\n",
       "\t<tr><th scope=row>indus</th><td> 6.023866e-02</td></tr>\n",
       "\t<tr><th scope=row>part</th><td>-2.539273e-02</td></tr>\n",
       "\t<tr><th scope=row>age</th><td> 6.686262e-03</td></tr>\n",
       "\t<tr><th scope=row>(Intercept)</th><td>-2.212674e-16</td></tr>\n",
       "</tbody>\n",
       "</table>\n"
      ],
      "text/latex": [
       "\\begin{tabular}{r|l}\n",
       "  & data\\\\\n",
       "\\hline\n",
       "\tlstat & -6.245181e-01\\\\\n",
       "\trad &  3.162886e-01\\\\\n",
       "\tdis & -3.095360e-01\\\\\n",
       "\ttax & -2.538477e-01\\\\\n",
       "\tcrim & -2.029852e-01\\\\\n",
       "\tnox & -1.977650e-01\\\\\n",
       "\tptratio & -1.907376e-01\\\\\n",
       "\trm &  1.197933e-01\\\\\n",
       "\tbk & -1.135118e-01\\\\\n",
       "\tzn &  8.091898e-02\\\\\n",
       "\tchas &  7.792639e-02\\\\\n",
       "\tindus &  6.023866e-02\\\\\n",
       "\tpart & -2.539273e-02\\\\\n",
       "\tage &  6.686262e-03\\\\\n",
       "\t(Intercept) & -2.212674e-16\\\\\n",
       "\\end{tabular}\n"
      ],
      "text/markdown": [
       "\n",
       "| <!--/--> | data | \n",
       "|---|---|---|---|---|---|---|---|---|---|---|---|---|---|---|\n",
       "| lstat | -6.245181e-01 | \n",
       "| rad |  3.162886e-01 | \n",
       "| dis | -3.095360e-01 | \n",
       "| tax | -2.538477e-01 | \n",
       "| crim | -2.029852e-01 | \n",
       "| nox | -1.977650e-01 | \n",
       "| ptratio | -1.907376e-01 | \n",
       "| rm |  1.197933e-01 | \n",
       "| bk | -1.135118e-01 | \n",
       "| zn |  8.091898e-02 | \n",
       "| chas |  7.792639e-02 | \n",
       "| indus |  6.023866e-02 | \n",
       "| part | -2.539273e-02 | \n",
       "| age |  6.686262e-03 | \n",
       "| (Intercept) | -2.212674e-16 | \n",
       "\n",
       "\n"
      ],
      "text/plain": [
       "            data         \n",
       "lstat       -6.245181e-01\n",
       "rad          3.162886e-01\n",
       "dis         -3.095360e-01\n",
       "tax         -2.538477e-01\n",
       "crim        -2.029852e-01\n",
       "nox         -1.977650e-01\n",
       "ptratio     -1.907376e-01\n",
       "rm           1.197933e-01\n",
       "bk          -1.135118e-01\n",
       "zn           8.091898e-02\n",
       "chas         7.792639e-02\n",
       "indus        6.023866e-02\n",
       "part        -2.539273e-02\n",
       "age          6.686262e-03\n",
       "(Intercept) -2.212674e-16"
      ]
     },
     "metadata": {},
     "output_type": "display_data"
    }
   ],
   "source": [
    "scaled.training.data = lapply(training.data, scale)\n",
    "scaled.model = lm(y ~ ., scaled.training.data)\n",
    "SortData(scaled.model$coefficients)"
   ]
  },
  {
   "cell_type": "markdown",
   "metadata": {
    "collapsed": true
   },
   "source": [
    "#### Incremental/partial R2\n",
    "\n",
    "Gain in R2 when adding variable as the last one\n",
    "TODO"
   ]
  },
  {
   "cell_type": "markdown",
   "metadata": {},
   "source": [
    "*Do they have any effect on the house price? If yes, which kind of effect?*\n",
    "\n",
    "- **part** has a (statistically insignificant) negative effect on housing prices\n",
    "- **nox** has a (statistically significant) negative effect on housing prices"
   ]
  },
  {
   "cell_type": "markdown",
   "metadata": {},
   "source": [
    "### 1.2 Evaluation\n",
    "\n",
    "*The model above can be also used to predict the price for the other tracts (test set).*\n",
    "\n",
    "*Compute the prediction error on the test data.*"
   ]
  },
  {
   "cell_type": "code",
   "execution_count": 11,
   "metadata": {
    "collapsed": true
   },
   "outputs": [],
   "source": [
    "RMSE = function(model, data) {\n",
    "  predictions = predict(model, data)\n",
    "  prediction.error = sqrt(mean((predictions - data$y)^2))\n",
    "  return(prediction.error)\n",
    "}"
   ]
  },
  {
   "cell_type": "code",
   "execution_count": 12,
   "metadata": {},
   "outputs": [
    {
     "data": {
      "text/html": [
       "0.214761101644916"
      ],
      "text/latex": [
       "0.214761101644916"
      ],
      "text/markdown": [
       "0.214761101644916"
      ],
      "text/plain": [
       "[1] 0.2147611"
      ]
     },
     "metadata": {},
     "output_type": "display_data"
    }
   ],
   "source": [
    "RMSE(lgr.model, test.data)"
   ]
  },
  {
   "cell_type": "markdown",
   "metadata": {},
   "source": [
    "*Moreover, derive two reduced models by applying a backward elimination procedure with AIC and α = 0.05 as stopping criteria, respectively. For both models, report the estimated coefficients and the prediction error estimated on the test data. Comment the results.*"
   ]
  },
  {
   "cell_type": "markdown",
   "metadata": {},
   "source": [
    "#### Backard elimination with AIC as stopping criteria"
   ]
  },
  {
   "cell_type": "code",
   "execution_count": 13,
   "metadata": {
    "collapsed": true
   },
   "outputs": [
    {
     "name": "stdout",
     "output_type": "stream",
     "text": [
      "Start:  AIC=-882.01\n",
      "y ~ crim + zn + indus + chas + nox + rm + age + dis + rad + tax + \n",
      "    ptratio + bk + lstat + part\n",
      "\n",
      "          Df Sum of Sq     RSS     AIC\n",
      "- age      1    0.0006  6.8805 -883.99\n",
      "- part     1    0.0252  6.9051 -883.09\n",
      "- indus    1    0.0358  6.9156 -882.70\n",
      "<none>                  6.8799 -882.01\n",
      "- zn       1    0.1113  6.9911 -879.95\n",
      "- chas     1    0.2300  7.1098 -875.69\n",
      "- tax      1    0.2736  7.1535 -874.14\n",
      "- rm       1    0.3140  7.1939 -872.72\n",
      "- nox      1    0.3304  7.2103 -872.14\n",
      "- bk       1    0.4368  7.3166 -868.44\n",
      "- rad      1    0.5016  7.3814 -866.21\n",
      "- ptratio  1    0.7161  7.5960 -858.96\n",
      "- crim     1    0.9588  7.8387 -851.00\n",
      "- dis      1    1.0300  7.9099 -848.71\n",
      "- lstat    1    5.3725 12.2524 -738.00\n",
      "\n",
      "Step:  AIC=-883.99\n",
      "y ~ crim + zn + indus + chas + nox + rm + dis + rad + tax + ptratio + \n",
      "    bk + lstat + part\n",
      "\n",
      "          Df Sum of Sq     RSS     AIC\n",
      "- part     1    0.0263  6.9068 -885.02\n",
      "- indus    1    0.0357  6.9162 -884.68\n",
      "<none>                  6.8805 -883.99\n",
      "- zn       1    0.1109  6.9913 -881.95\n",
      "- chas     1    0.2327  7.1131 -877.58\n",
      "- tax      1    0.2732  7.1537 -876.14\n",
      "- rm       1    0.3405  7.2210 -873.77\n",
      "- nox      1    0.3544  7.2349 -873.28\n",
      "- bk       1    0.4362  7.3166 -870.44\n",
      "- rad      1    0.5034  7.3838 -868.13\n",
      "- ptratio  1    0.7278  7.6083 -860.55\n",
      "- crim     1    0.9582  7.8387 -853.00\n",
      "- dis      1    1.1162  7.9967 -847.95\n",
      "- lstat    1    5.9177 12.7981 -728.97\n",
      "\n",
      "Step:  AIC=-885.02\n",
      "y ~ crim + zn + indus + chas + nox + rm + dis + rad + tax + ptratio + \n",
      "    bk + lstat\n",
      "\n",
      "          Df Sum of Sq     RSS     AIC\n",
      "- indus    1    0.0380  6.9448 -885.64\n",
      "<none>                  6.9068 -885.02\n",
      "- zn       1    0.1111  7.0179 -882.99\n",
      "- chas     1    0.2478  7.1546 -878.11\n",
      "- tax      1    0.2637  7.1704 -877.55\n",
      "- rm       1    0.3302  7.2369 -875.21\n",
      "- nox      1    0.3536  7.2604 -874.39\n",
      "- bk       1    0.4571  7.3639 -870.81\n",
      "- rad      1    0.4904  7.3972 -869.67\n",
      "- ptratio  1    0.7162  7.6230 -862.06\n",
      "- crim     1    0.9631  7.8698 -854.00\n",
      "- dis      1    1.0966  8.0034 -849.74\n",
      "- lstat    1    5.9870 12.8938 -729.09\n",
      "\n",
      "Step:  AIC=-885.64\n",
      "y ~ crim + zn + chas + nox + rm + dis + rad + tax + ptratio + \n",
      "    bk + lstat\n",
      "\n",
      "          Df Sum of Sq     RSS     AIC\n",
      "<none>                  6.9448 -885.64\n",
      "- zn       1    0.0979  7.0427 -884.10\n",
      "- tax      1    0.2265  7.1712 -879.52\n",
      "- chas     1    0.2834  7.2282 -877.52\n",
      "- nox      1    0.3156  7.2604 -876.39\n",
      "- rm       1    0.3186  7.2634 -876.29\n",
      "- bk       1    0.4488  7.3935 -871.79\n",
      "- rad      1    0.4527  7.3975 -871.66\n",
      "- ptratio  1    0.6861  7.6308 -863.80\n",
      "- crim     1    0.9699  7.9147 -854.56\n",
      "- dis      1    1.1580  8.1028 -848.62\n",
      "- lstat    1    5.9502 12.8950 -731.07\n"
     ]
    }
   ],
   "source": [
    "aic.elimination.model = lm(y ~ ., training.data)\n",
    "aic.elimination.model = step(aic.elimination.model, direction = \"backward\")"
   ]
  },
  {
   "cell_type": "code",
   "execution_count": 14,
   "metadata": {},
   "outputs": [
    {
     "data": {
      "text/html": [
       "<dl class=dl-horizontal>\n",
       "\t<dt>(Intercept)</dt>\n",
       "\t\t<dd>4.35831756088218</dd>\n",
       "\t<dt>crim</dt>\n",
       "\t\t<dd>-0.0093233318372998</dd>\n",
       "\t<dt>zn</dt>\n",
       "\t\t<dd>0.00134721069763396</dd>\n",
       "\t<dt>chas</dt>\n",
       "\t\t<dd>0.133889250179376</dd>\n",
       "\t<dt>nox</dt>\n",
       "\t\t<dd>-0.587877397866163</dd>\n",
       "\t<dt>rm</dt>\n",
       "\t\t<dd>0.0681740354387974</dd>\n",
       "\t<dt>dis</dt>\n",
       "\t\t<dd>-0.0628805947047279</dd>\n",
       "\t<dt>rad</dt>\n",
       "\t\t<dd>0.0131911758694658</dd>\n",
       "\t<dt>tax</dt>\n",
       "\t\t<dd>-0.000490508368033427</dd>\n",
       "\t<dt>ptratio</dt>\n",
       "\t\t<dd>-0.0340597069475341</dd>\n",
       "\t<dt>bk</dt>\n",
       "\t\t<dd>-0.402911164582141</dd>\n",
       "\t<dt>lstat</dt>\n",
       "\t\t<dd>-0.0361469832334543</dd>\n",
       "</dl>\n"
      ],
      "text/latex": [
       "\\begin{description*}\n",
       "\\item[(Intercept)] 4.35831756088218\n",
       "\\item[crim] -0.0093233318372998\n",
       "\\item[zn] 0.00134721069763396\n",
       "\\item[chas] 0.133889250179376\n",
       "\\item[nox] -0.587877397866163\n",
       "\\item[rm] 0.0681740354387974\n",
       "\\item[dis] -0.0628805947047279\n",
       "\\item[rad] 0.0131911758694658\n",
       "\\item[tax] -0.000490508368033427\n",
       "\\item[ptratio] -0.0340597069475341\n",
       "\\item[bk] -0.402911164582141\n",
       "\\item[lstat] -0.0361469832334543\n",
       "\\end{description*}\n"
      ],
      "text/markdown": [
       "(Intercept)\n",
       ":   4.35831756088218crim\n",
       ":   -0.0093233318372998zn\n",
       ":   0.00134721069763396chas\n",
       ":   0.133889250179376nox\n",
       ":   -0.587877397866163rm\n",
       ":   0.0681740354387974dis\n",
       ":   -0.0628805947047279rad\n",
       ":   0.0131911758694658tax\n",
       ":   -0.000490508368033427ptratio\n",
       ":   -0.0340597069475341bk\n",
       ":   -0.402911164582141lstat\n",
       ":   -0.0361469832334543\n",
       "\n"
      ],
      "text/plain": [
       "  (Intercept)          crim            zn          chas           nox \n",
       " 4.3583175609 -0.0093233318  0.0013472107  0.1338892502 -0.5878773979 \n",
       "           rm           dis           rad           tax       ptratio \n",
       " 0.0681740354 -0.0628805947  0.0131911759 -0.0004905084 -0.0340597069 \n",
       "           bk         lstat \n",
       "-0.4029111646 -0.0361469832 "
      ]
     },
     "metadata": {},
     "output_type": "display_data"
    }
   ],
   "source": [
    "aic.elimination.model$coefficients"
   ]
  },
  {
   "cell_type": "code",
   "execution_count": 15,
   "metadata": {},
   "outputs": [
    {
     "data": {
      "text/html": [
       "0.214302510511251"
      ],
      "text/latex": [
       "0.214302510511251"
      ],
      "text/markdown": [
       "0.214302510511251"
      ],
      "text/plain": [
       "[1] 0.2143025"
      ]
     },
     "metadata": {},
     "output_type": "display_data"
    }
   ],
   "source": [
    "RMSE(aic.elimination.model, test.data)"
   ]
  },
  {
   "cell_type": "markdown",
   "metadata": {},
   "source": [
    "#### Backward elimination with α = 0.05 as stopping criteria"
   ]
  },
  {
   "cell_type": "code",
   "execution_count": 16,
   "metadata": {
    "collapsed": true
   },
   "outputs": [],
   "source": [
    "PValues = function(model) {\n",
    "  return(summary(model)$coefficients[-1, 4])\n",
    "}"
   ]
  },
  {
   "cell_type": "code",
   "execution_count": 17,
   "metadata": {
    "collapsed": true
   },
   "outputs": [],
   "source": [
    "alpha.elimination.model = NULL\n",
    "alpha.elimination.data = training.data\n",
    "\n",
    "repeat {\n",
    "  alpha.elimination.model = lm(y ~ ., alpha.elimination.data)\n",
    "\n",
    "  if (all(PValues(alpha.elimination.model) <= 0.05)) {\n",
    "    break;\n",
    "  }\n",
    "  \n",
    "  p.values = PValues(alpha.elimination.model)\n",
    "  highest.p.value = p.values[which.max(p.values)]\n",
    "  predictor.with.highest.p.value = names(highest.p.value)\n",
    "  alpha.elimination.data = AllColumnsExcept(alpha.elimination.data, predictor.with.highest.p.value) \n",
    "}"
   ]
  },
  {
   "cell_type": "code",
   "execution_count": 18,
   "metadata": {},
   "outputs": [
    {
     "data": {
      "text/html": [
       "<dl class=dl-horizontal>\n",
       "\t<dt>(Intercept)</dt>\n",
       "\t\t<dd>4.40750949892825</dd>\n",
       "\t<dt>crim</dt>\n",
       "\t\t<dd>-0.0090857604952737</dd>\n",
       "\t<dt>chas</dt>\n",
       "\t\t<dd>0.130090729805303</dd>\n",
       "\t<dt>nox</dt>\n",
       "\t\t<dd>-0.627707347091635</dd>\n",
       "\t<dt>rm</dt>\n",
       "\t\t<dd>0.0727657497299445</dd>\n",
       "\t<dt>dis</dt>\n",
       "\t\t<dd>-0.0537378737163828</dd>\n",
       "\t<dt>rad</dt>\n",
       "\t\t<dd>0.0132326502738295</dd>\n",
       "\t<dt>tax</dt>\n",
       "\t\t<dd>-0.000445034361738543</dd>\n",
       "\t<dt>ptratio</dt>\n",
       "\t\t<dd>-0.0392956598083025</dd>\n",
       "\t<dt>bk</dt>\n",
       "\t\t<dd>-0.402780896901715</dd>\n",
       "\t<dt>lstat</dt>\n",
       "\t\t<dd>-0.0360381786788926</dd>\n",
       "</dl>\n"
      ],
      "text/latex": [
       "\\begin{description*}\n",
       "\\item[(Intercept)] 4.40750949892825\n",
       "\\item[crim] -0.0090857604952737\n",
       "\\item[chas] 0.130090729805303\n",
       "\\item[nox] -0.627707347091635\n",
       "\\item[rm] 0.0727657497299445\n",
       "\\item[dis] -0.0537378737163828\n",
       "\\item[rad] 0.0132326502738295\n",
       "\\item[tax] -0.000445034361738543\n",
       "\\item[ptratio] -0.0392956598083025\n",
       "\\item[bk] -0.402780896901715\n",
       "\\item[lstat] -0.0360381786788926\n",
       "\\end{description*}\n"
      ],
      "text/markdown": [
       "(Intercept)\n",
       ":   4.40750949892825crim\n",
       ":   -0.0090857604952737chas\n",
       ":   0.130090729805303nox\n",
       ":   -0.627707347091635rm\n",
       ":   0.0727657497299445dis\n",
       ":   -0.0537378737163828rad\n",
       ":   0.0132326502738295tax\n",
       ":   -0.000445034361738543ptratio\n",
       ":   -0.0392956598083025bk\n",
       ":   -0.402780896901715lstat\n",
       ":   -0.0360381786788926\n",
       "\n"
      ],
      "text/plain": [
       "  (Intercept)          crim          chas           nox            rm \n",
       " 4.4075094989 -0.0090857605  0.1300907298 -0.6277073471  0.0727657497 \n",
       "          dis           rad           tax       ptratio            bk \n",
       "-0.0537378737  0.0132326503 -0.0004450344 -0.0392956598 -0.4027808969 \n",
       "        lstat \n",
       "-0.0360381787 "
      ]
     },
     "metadata": {},
     "output_type": "display_data"
    }
   ],
   "source": [
    "alpha.elimination.model$coefficients"
   ]
  },
  {
   "cell_type": "code",
   "execution_count": 19,
   "metadata": {},
   "outputs": [
    {
     "data": {
      "text/html": [
       "0.214420320465987"
      ],
      "text/latex": [
       "0.214420320465987"
      ],
      "text/markdown": [
       "0.214420320465987"
      ],
      "text/plain": [
       "[1] 0.2144203"
      ]
     },
     "metadata": {},
     "output_type": "display_data"
    }
   ],
   "source": [
    "RMSE(alpha.elimination.model, test.data)"
   ]
  },
  {
   "cell_type": "markdown",
   "metadata": {},
   "source": [
    "### 1.3 Principal Component Regression\n",
    "\n",
    "*Estimate a principal component regression model, selecting the number of components by 10-fold cross-validation.*"
   ]
  },
  {
   "cell_type": "code",
   "execution_count": 20,
   "metadata": {
    "collapsed": true
   },
   "outputs": [],
   "source": [
    "RotateData = function(pca, data, response.variable = 'y') {\n",
    "  rotated.data = as.data.frame(predict(pca, data))\n",
    "  rotated.data[response.variable] = data[response.variable]\n",
    "  return(rotated.data)\n",
    "}"
   ]
  },
  {
   "cell_type": "code",
   "execution_count": 21,
   "metadata": {
    "collapsed": true
   },
   "outputs": [],
   "source": [
    "pca = prcomp(AllColumnsExcept(training.data, 'y'), scale = TRUE, center = TRUE)\n",
    "\n",
    "rotated.training.data = RotateData(pca, training.data)\n",
    "rotated.test.data = RotateData(pca, test.data)"
   ]
  },
  {
   "cell_type": "code",
   "execution_count": 78,
   "metadata": {
    "collapsed": true
   },
   "outputs": [],
   "source": [
    "PCRModel = function(data, method, number) {\n",
    "    model = train(\n",
    "        y ~ .,\n",
    "        data = data,\n",
    "        preProc = c(\"center\", \"scale\"),\n",
    "        method = \"pcr\",\n",
    "        tuneControl = 10,\n",
    "        trControl = trainControl(\n",
    "            method = method,\n",
    "            number = number\n",
    "        ))\n",
    "    model$num.of.components = model$bestTune$ncomp\n",
    "    return(model)\n",
    "}"
   ]
  },
  {
   "cell_type": "code",
   "execution_count": 79,
   "metadata": {},
   "outputs": [],
   "source": [
    "pcr.cv.model = PCRModel(training.data, 'cv', 10)"
   ]
  },
  {
   "cell_type": "code",
   "execution_count": 77,
   "metadata": {},
   "outputs": [
    {
     "data": {
      "text/html": [
       "0.246088752692167"
      ],
      "text/latex": [
       "0.246088752692167"
      ],
      "text/markdown": [
       "0.246088752692167"
      ],
      "text/plain": [
       "[1] 0.2460888"
      ]
     },
     "metadata": {},
     "output_type": "display_data"
    }
   ],
   "source": [
    "RMSE(pcr.cv.model, test.data)"
   ]
  },
  {
   "cell_type": "markdown",
   "metadata": {},
   "source": [
    "*How many components have been selected?*"
   ]
  },
  {
   "cell_type": "code",
   "execution_count": 62,
   "metadata": {},
   "outputs": [
    {
     "data": {
      "text/html": [
       "14"
      ],
      "text/latex": [
       "14"
      ],
      "text/markdown": [
       "14"
      ],
      "text/plain": [
       "[1] 14"
      ]
     },
     "metadata": {},
     "output_type": "display_data"
    }
   ],
   "source": [
    "pcr.cv.model$num.of.components"
   ]
  },
  {
   "cell_type": "code",
   "execution_count": 22,
   "metadata": {},
   "outputs": [
    {
     "data": {
      "text/html": [
       "0.220868063381945"
      ],
      "text/latex": [
       "0.220868063381945"
      ],
      "text/markdown": [
       "0.220868063381945"
      ],
      "text/plain": [
       "[1] 0.2208681"
      ]
     },
     "metadata": {},
     "output_type": "display_data"
    }
   ],
   "source": [
    "RMSE(lm(y ~ . - PC14, rotated.training.data), rotated.test.data)"
   ]
  },
  {
   "cell_type": "markdown",
   "metadata": {},
   "source": [
    "*What does it mean?*\n",
    "\n",
    "TODO"
   ]
  },
  {
   "cell_type": "markdown",
   "metadata": {},
   "source": [
    "### 1.4 PCR using .632 bootstrap\n",
    "\n",
    "*Repeat the procedure to choose the number of components by using the .632 bootstrap procedure.*"
   ]
  },
  {
   "cell_type": "code",
   "execution_count": 41,
   "metadata": {},
   "outputs": [],
   "source": [
    "pcr.bootstrap.model = SelectBestPCRModel(training.data, 'boot632', 100)"
   ]
  },
  {
   "cell_type": "code",
   "execution_count": 42,
   "metadata": {},
   "outputs": [
    {
     "data": {
      "text/html": [
       "0.214761101644916"
      ],
      "text/latex": [
       "0.214761101644916"
      ],
      "text/markdown": [
       "0.214761101644916"
      ],
      "text/plain": [
       "[1] 0.2147611"
      ]
     },
     "metadata": {},
     "output_type": "display_data"
    }
   ],
   "source": [
    "RMSE(pcr.bootstrap.model, test.data)"
   ]
  },
  {
   "cell_type": "markdown",
   "metadata": {},
   "source": [
    "*Does the number of selected components change?*"
   ]
  },
  {
   "cell_type": "code",
   "execution_count": 43,
   "metadata": {},
   "outputs": [
    {
     "data": {
      "text/html": [
       "14"
      ],
      "text/latex": [
       "14"
      ],
      "text/markdown": [
       "14"
      ],
      "text/plain": [
       "[1] 14"
      ]
     },
     "metadata": {},
     "output_type": "display_data"
    }
   ],
   "source": [
    "pcr.bootstrap.model$num.of.components"
   ]
  },
  {
   "cell_type": "markdown",
   "metadata": {},
   "source": [
    "*Report the estimate of the prediction error for each possible number of components.*\n",
    "    \n",
    "See above."
   ]
  },
  {
   "cell_type": "markdown",
   "metadata": {},
   "source": [
    "### 1.5 Ridge regression\n",
    "\n",
    "*Estimate the regression model by ridge regression, where the optimal tuning parameter λ is chosen by 10-fold cross-validation.*"
   ]
  },
  {
   "cell_type": "markdown",
   "metadata": {},
   "source": [
    "**TODO**: What are reasonable lambda values?"
   ]
  },
  {
   "cell_type": "code",
   "execution_count": 157,
   "metadata": {
    "collapsed": true
   },
   "outputs": [
    {
     "name": "stderr",
     "output_type": "stream",
     "text": [
      "Loading required package: Matrix\n",
      "Loading required package: foreach\n",
      "Loaded glmnet 2.0-13\n",
      "\n",
      "Warning message in nominalTrainWorkflow(x = x, y = y, wts = weights, info = trainInfo, :\n",
      "“There were missing values in resampled performance measures.”"
     ]
    }
   ],
   "source": [
    "ridge.model = train(\n",
    "  y ~ .,\n",
    "  data = training.data,\n",
    "  method = \"glmnet\",\n",
    "  tuneGrid = expand.grid(\n",
    "    alpha = 0,\n",
    "    lambda = 10^seq(-5, 5, by = .1)\n",
    "  ),\n",
    "  trControl = trainControl(\n",
    "    method = 'cv',\n",
    "    number = 10\n",
    "  )\n",
    ")"
   ]
  },
  {
   "cell_type": "markdown",
   "metadata": {},
   "source": [
    "*Report the estimated coefficients, the obtained value of lambda and the prediction error computed on the test data.*"
   ]
  },
  {
   "cell_type": "code",
   "execution_count": 176,
   "metadata": {},
   "outputs": [
    {
     "data": {
      "text/plain": [
       "15 x 1 sparse Matrix of class \"dgCMatrix\"\n",
       "                        1\n",
       "(Intercept)  3.8771124229\n",
       "crim        -0.0080244317\n",
       "zn           0.0008041282\n",
       "indus       -0.0002841339\n",
       "chas         0.1359930995\n",
       "nox         -0.3888605767\n",
       "rm           0.0965529950\n",
       "age         -0.0004318776\n",
       "dis         -0.0441903838\n",
       "rad          0.0061303460\n",
       "tax         -0.0002416576\n",
       "ptratio     -0.0298469164\n",
       "bk          -0.3716559594\n",
       "lstat       -0.0309399065\n",
       "part        -0.0080482342"
      ]
     },
     "metadata": {},
     "output_type": "display_data"
    }
   ],
   "source": [
    "coef(ridge.model$finalModel, ridge.model$bestTune$lambda)"
   ]
  },
  {
   "cell_type": "code",
   "execution_count": 175,
   "metadata": {},
   "outputs": [
    {
     "data": {
      "text/html": [
       "0.0316227766016838"
      ],
      "text/latex": [
       "0.0316227766016838"
      ],
      "text/markdown": [
       "0.0316227766016838"
      ],
      "text/plain": [
       "[1] 0.03162278"
      ]
     },
     "metadata": {},
     "output_type": "display_data"
    }
   ],
   "source": [
    "ridge.model$bestTune$lambda"
   ]
  },
  {
   "cell_type": "code",
   "execution_count": 174,
   "metadata": {},
   "outputs": [
    {
     "data": {
      "text/html": [
       "0.209529444176601"
      ],
      "text/latex": [
       "0.209529444176601"
      ],
      "text/markdown": [
       "0.209529444176601"
      ],
      "text/plain": [
       "[1] 0.2095294"
      ]
     },
     "metadata": {},
     "output_type": "display_data"
    }
   ],
   "source": [
    "RMSE(ridge.model, test.data)"
   ]
  },
  {
   "cell_type": "markdown",
   "metadata": {},
   "source": [
    "### 1.6 Lasso regression\n",
    "\n",
    "*Repeat the same procedure by using lasso and component-wise L2Boost. Use 10-fold cross-validation to find the optimal value for λ (lasso) and mstop (L2Boost), while set the boosting step size ν equal to 0.1.*"
   ]
  },
  {
   "cell_type": "markdown",
   "metadata": {},
   "source": [
    "##### Lasso"
   ]
  },
  {
   "cell_type": "code",
   "execution_count": 177,
   "metadata": {
    "collapsed": true
   },
   "outputs": [
    {
     "name": "stderr",
     "output_type": "stream",
     "text": [
      "Warning message in nominalTrainWorkflow(x = x, y = y, wts = weights, info = trainInfo, :\n",
      "“There were missing values in resampled performance measures.”"
     ]
    }
   ],
   "source": [
    "lasso.model = train(\n",
    "  y ~ .,\n",
    "  data = training.data,\n",
    "  method = \"glmnet\",\n",
    "  tuneGrid = expand.grid(\n",
    "    alpha = 1,\n",
    "    lambda = 10^seq(-5, 5, by = .1)\n",
    "  ),\n",
    "  trControl = trainControl(\n",
    "    method = 'cv',\n",
    "    number = 10\n",
    "  )\n",
    ")"
   ]
  },
  {
   "cell_type": "code",
   "execution_count": 178,
   "metadata": {},
   "outputs": [
    {
     "data": {
      "text/plain": [
       "15 x 1 sparse Matrix of class \"dgCMatrix\"\n",
       "                        1\n",
       "(Intercept)  4.3260709940\n",
       "crim        -0.0089050445\n",
       "zn           0.0012568908\n",
       "indus        0.0020492554\n",
       "chas         0.1261989179\n",
       "nox         -0.5861530862\n",
       "rm           0.0714581102\n",
       "age          .           \n",
       "dis         -0.0588804573\n",
       "rad          0.0120748001\n",
       "tax         -0.0004775532\n",
       "ptratio     -0.0340596693\n",
       "bk          -0.3885042779\n",
       "lstat       -0.0363073007\n",
       "part        -0.0078546974"
      ]
     },
     "metadata": {},
     "output_type": "display_data"
    }
   ],
   "source": [
    "coef(lasso.model$finalModel, lasso.model$bestTune$lambda)"
   ]
  },
  {
   "cell_type": "code",
   "execution_count": 179,
   "metadata": {},
   "outputs": [
    {
     "data": {
      "text/html": [
       "0.001"
      ],
      "text/latex": [
       "0.001"
      ],
      "text/markdown": [
       "0.001"
      ],
      "text/plain": [
       "[1] 0.001"
      ]
     },
     "metadata": {},
     "output_type": "display_data"
    }
   ],
   "source": [
    "lasso.model$bestTune$lambda"
   ]
  },
  {
   "cell_type": "code",
   "execution_count": 180,
   "metadata": {},
   "outputs": [
    {
     "data": {
      "text/html": [
       "0.214387408700827"
      ],
      "text/latex": [
       "0.214387408700827"
      ],
      "text/markdown": [
       "0.214387408700827"
      ],
      "text/plain": [
       "[1] 0.2143874"
      ]
     },
     "metadata": {},
     "output_type": "display_data"
    }
   ],
   "source": [
    "RMSE(lasso.model, test.data)"
   ]
  },
  {
   "cell_type": "markdown",
   "metadata": {},
   "source": [
    "### 1.7 Variable transformations\n",
    "\n",
    "*It has been argued that the predictors rm and dis do not have a linear effect on the outcome. Substitute the former with its cube and the latter with its inverse (dis-1) in the first model (OLS) and refit the model.*"
   ]
  },
  {
   "cell_type": "code",
   "execution_count": 181,
   "metadata": {
    "collapsed": true
   },
   "outputs": [],
   "source": [
    "TransformData = function(data) {\n",
    "  transformed.data = data\n",
    "  transformed.data$rm.squared = data$rm^2\n",
    "  transformed.data$dis.inverse = data$dis^(-1)\n",
    "  transformed.data = AllColumnsExcept(transformed.data, c('rm', 'dis'))\n",
    "}"
   ]
  },
  {
   "cell_type": "code",
   "execution_count": 182,
   "metadata": {
    "collapsed": true
   },
   "outputs": [],
   "source": [
    "transformed.training.data = TransformData(training.data)\n",
    "transformed.test.data = TransformData(test.data)"
   ]
  },
  {
   "cell_type": "code",
   "execution_count": 183,
   "metadata": {
    "collapsed": true
   },
   "outputs": [],
   "source": [
    "transformed.model = lm(y ~ ., transformed.training.data)"
   ]
  },
  {
   "cell_type": "markdown",
   "metadata": {},
   "source": [
    "*Report the estimated coefficients.*"
   ]
  },
  {
   "cell_type": "code",
   "execution_count": 184,
   "metadata": {},
   "outputs": [
    {
     "data": {
      "text/html": [
       "<dl class=dl-horizontal>\n",
       "\t<dt>(Intercept)</dt>\n",
       "\t\t<dd>4.07369255366987</dd>\n",
       "\t<dt>crim</dt>\n",
       "\t\t<dd>-0.012904751704877</dd>\n",
       "\t<dt>zn</dt>\n",
       "\t\t<dd>-0.000332301358820285</dd>\n",
       "\t<dt>indus</dt>\n",
       "\t\t<dd>0.00180168612086687</dd>\n",
       "\t<dt>chas</dt>\n",
       "\t\t<dd>0.132050811117254</dd>\n",
       "\t<dt>nox</dt>\n",
       "\t\t<dd>-0.886951702239384</dd>\n",
       "\t<dt>age</dt>\n",
       "\t\t<dd>-0.000740856521694361</dd>\n",
       "\t<dt>rad</dt>\n",
       "\t\t<dd>0.0147736070108756</dd>\n",
       "\t<dt>tax</dt>\n",
       "\t\t<dd>-0.000637306095544905</dd>\n",
       "\t<dt>ptratio</dt>\n",
       "\t\t<dd>-0.0296301844147859</dd>\n",
       "\t<dt>bk</dt>\n",
       "\t\t<dd>-0.336671663998079</dd>\n",
       "\t<dt>lstat</dt>\n",
       "\t\t<dd>-0.0363891311109828</dd>\n",
       "\t<dt>part</dt>\n",
       "\t\t<dd>-0.00690730683559299</dd>\n",
       "\t<dt>rm.squared</dt>\n",
       "\t\t<dd>0.00859086068266812</dd>\n",
       "\t<dt>dis.inverse</dt>\n",
       "\t\t<dd>0.982223711712791</dd>\n",
       "</dl>\n"
      ],
      "text/latex": [
       "\\begin{description*}\n",
       "\\item[(Intercept)] 4.07369255366987\n",
       "\\item[crim] -0.012904751704877\n",
       "\\item[zn] -0.000332301358820285\n",
       "\\item[indus] 0.00180168612086687\n",
       "\\item[chas] 0.132050811117254\n",
       "\\item[nox] -0.886951702239384\n",
       "\\item[age] -0.000740856521694361\n",
       "\\item[rad] 0.0147736070108756\n",
       "\\item[tax] -0.000637306095544905\n",
       "\\item[ptratio] -0.0296301844147859\n",
       "\\item[bk] -0.336671663998079\n",
       "\\item[lstat] -0.0363891311109828\n",
       "\\item[part] -0.00690730683559299\n",
       "\\item[rm.squared] 0.00859086068266812\n",
       "\\item[dis.inverse] 0.982223711712791\n",
       "\\end{description*}\n"
      ],
      "text/markdown": [
       "(Intercept)\n",
       ":   4.07369255366987crim\n",
       ":   -0.012904751704877zn\n",
       ":   -0.000332301358820285indus\n",
       ":   0.00180168612086687chas\n",
       ":   0.132050811117254nox\n",
       ":   -0.886951702239384age\n",
       ":   -0.000740856521694361rad\n",
       ":   0.0147736070108756tax\n",
       ":   -0.000637306095544905ptratio\n",
       ":   -0.0296301844147859bk\n",
       ":   -0.336671663998079lstat\n",
       ":   -0.0363891311109828part\n",
       ":   -0.00690730683559299rm.squared\n",
       ":   0.00859086068266812dis.inverse\n",
       ":   0.982223711712791\n",
       "\n"
      ],
      "text/plain": [
       "  (Intercept)          crim            zn         indus          chas \n",
       " 4.0736925537 -0.0129047517 -0.0003323014  0.0018016861  0.1320508111 \n",
       "          nox           age           rad           tax       ptratio \n",
       "-0.8869517022 -0.0007408565  0.0147736070 -0.0006373061 -0.0296301844 \n",
       "           bk         lstat          part    rm.squared   dis.inverse \n",
       "-0.3366716640 -0.0363891311 -0.0069073068  0.0085908607  0.9822237117 "
      ]
     },
     "metadata": {},
     "output_type": "display_data"
    }
   ],
   "source": [
    "transformed.model$coefficients"
   ]
  },
  {
   "cell_type": "markdown",
   "metadata": {},
   "source": [
    "*Compute the prediction error on the test set and compare the result with that obtained at point 1.*"
   ]
  },
  {
   "cell_type": "code",
   "execution_count": 185,
   "metadata": {},
   "outputs": [
    {
     "data": {
      "text/html": [
       "0.212022784418466"
      ],
      "text/latex": [
       "0.212022784418466"
      ],
      "text/markdown": [
       "0.212022784418466"
      ],
      "text/plain": [
       "[1] 0.2120228"
      ]
     },
     "metadata": {},
     "output_type": "display_data"
    }
   ],
   "source": [
    "RMSE(transformed.model, transformed.test.data)"
   ]
  },
  {
   "cell_type": "code",
   "execution_count": 186,
   "metadata": {},
   "outputs": [
    {
     "data": {
      "text/html": [
       "0.214761101644916"
      ],
      "text/latex": [
       "0.214761101644916"
      ],
      "text/markdown": [
       "0.214761101644916"
      ],
      "text/plain": [
       "[1] 0.2147611"
      ]
     },
     "metadata": {},
     "output_type": "display_data"
    }
   ],
   "source": [
    "lgr.prediction.error"
   ]
  },
  {
   "cell_type": "markdown",
   "metadata": {},
   "source": [
    "The fit improved!\n",
    "\n",
    "TODO: Comment/test significance of difference"
   ]
  },
  {
   "cell_type": "code",
   "execution_count": null,
   "metadata": {
    "collapsed": true
   },
   "outputs": [],
   "source": []
  }
 ],
 "metadata": {
  "kernelspec": {
   "display_name": "R",
   "language": "R",
   "name": "ir"
  },
  "language_info": {
   "codemirror_mode": "r",
   "file_extension": ".r",
   "mimetype": "text/x-r-source",
   "name": "R",
   "pygments_lexer": "r",
   "version": "3.4.2"
  }
 },
 "nbformat": 4,
 "nbformat_minor": 2
}
