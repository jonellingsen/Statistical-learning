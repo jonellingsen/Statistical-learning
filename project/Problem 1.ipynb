{
 "cells": [
  {
   "cell_type": "markdown",
   "metadata": {},
   "source": [
    "# STK4030 Final project"
   ]
  },
  {
   "cell_type": "markdown",
   "metadata": {},
   "source": [
    "## Setup"
   ]
  },
  {
   "cell_type": "code",
   "execution_count": 46,
   "metadata": {
    "collapsed": true
   },
   "outputs": [],
   "source": [
    "set.seed(4030)\n",
    "library(caret)\n",
    "library(mboost)"
   ]
  },
  {
   "cell_type": "markdown",
   "metadata": {},
   "source": [
    "## Helper functions"
   ]
  },
  {
   "cell_type": "code",
   "execution_count": 4,
   "metadata": {
    "collapsed": true
   },
   "outputs": [],
   "source": [
    "AllColumnsExcept = function(data, col.names) {\n",
    "    columns = !(names(data) %in% col.names)\n",
    "    return(data[, columns])\n",
    "}"
   ]
  },
  {
   "cell_type": "code",
   "execution_count": 5,
   "metadata": {
    "collapsed": true
   },
   "outputs": [],
   "source": [
    "SortData = function(data) {\n",
    "    data.as.df = as.data.frame(data)\n",
    "    sorted.data = data.as.df[with(data.as.df, order(-abs(data.as.df[, 1]))), , drop = FALSE]\n",
    "    return(sorted.data)\n",
    "}"
   ]
  },
  {
   "cell_type": "markdown",
   "metadata": {},
   "source": [
    "## Problem 1"
   ]
  },
  {
   "cell_type": "markdown",
   "metadata": {},
   "source": [
    "### Load data"
   ]
  },
  {
   "cell_type": "code",
   "execution_count": 6,
   "metadata": {
    "collapsed": true
   },
   "outputs": [],
   "source": [
    "load(\"bostonhousing.rdata\")\n",
    "\n",
    "training.data = data[data$train == TRUE, ]\n",
    "training.data = AllColumnsExcept(training.data, 'train')\n",
    "\n",
    "test.data = data[data$train == FALSE, ]\n",
    "test.data = AllColumnsExcept(test.data, 'train')"
   ]
  },
  {
   "cell_type": "markdown",
   "metadata": {
    "collapsed": true
   },
   "source": [
    "### 1.1 Linear regression\n",
    "\n",
    "*Estimate a linear Gaussian regression model including all 14 independent variables by (ordinary) least squares (OLS) on the training set.*"
   ]
  },
  {
   "cell_type": "code",
   "execution_count": 7,
   "metadata": {
    "collapsed": true
   },
   "outputs": [],
   "source": [
    "lgr.model = lm(y ~ ., training.data)"
   ]
  },
  {
   "cell_type": "markdown",
   "metadata": {},
   "source": [
    "*Report the estimated coefficients.*"
   ]
  },
  {
   "cell_type": "code",
   "execution_count": 8,
   "metadata": {},
   "outputs": [
    {
     "data": {
      "text/plain": [
       "\n",
       "Call:\n",
       "lm(formula = y ~ ., data = training.data)\n",
       "\n",
       "Residuals:\n",
       "     Min       1Q   Median       3Q      Max \n",
       "-0.63205 -0.10022 -0.00941  0.08597  0.71839 \n",
       "\n",
       "Coefficients:\n",
       "              Estimate Std. Error t value Pr(>|t|)    \n",
       "(Intercept)  4.4269062  0.2592184  17.078  < 2e-16 ***\n",
       "crim        -0.0092742  0.0016103  -5.759 2.60e-08 ***\n",
       "zn           0.0014557  0.0007420   1.962 0.050929 .  \n",
       "indus        0.0035924  0.0032292   1.112 0.267057    \n",
       "chas         0.1226629  0.0434888   2.821 0.005198 ** \n",
       "nox         -0.6707267  0.1983857  -3.381 0.000844 ***\n",
       "rm           0.0699879  0.0212350   3.296 0.001131 ** \n",
       "age          0.0001011  0.0007072   0.143 0.886416    \n",
       "dis         -0.0619333  0.0103753  -5.969 8.59e-09 ***\n",
       "rad          0.0144673  0.0034732   4.165 4.35e-05 ***\n",
       "tax         -0.0005983  0.0001945  -3.077 0.002339 ** \n",
       "ptratio     -0.0355679  0.0071460  -4.977 1.24e-06 ***\n",
       "bk          -0.3992916  0.1027225  -3.887 0.000132 ***\n",
       "lstat       -0.0363930  0.0026695 -13.633  < 2e-16 ***\n",
       "part        -0.0089272  0.0095550  -0.934 0.351100    \n",
       "---\n",
       "Signif. codes:  0 ‘***’ 0.001 ‘**’ 0.01 ‘*’ 0.05 ‘.’ 0.1 ‘ ’ 1\n",
       "\n",
       "Residual standard error: 0.17 on 238 degrees of freedom\n",
       "Multiple R-squared:  0.8339,\tAdjusted R-squared:  0.8242 \n",
       "F-statistic: 85.36 on 14 and 238 DF,  p-value: < 2.2e-16\n"
      ]
     },
     "metadata": {},
     "output_type": "display_data"
    },
    {
     "data": {
      "text/html": [
       "<dl class=dl-horizontal>\n",
       "\t<dt>(Intercept)</dt>\n",
       "\t\t<dd>4.42690623817788</dd>\n",
       "\t<dt>crim</dt>\n",
       "\t\t<dd>-0.00927423054081376</dd>\n",
       "\t<dt>zn</dt>\n",
       "\t\t<dd>0.00145574388611928</dd>\n",
       "\t<dt>indus</dt>\n",
       "\t\t<dd>0.00359238539495567</dd>\n",
       "\t<dt>chas</dt>\n",
       "\t\t<dd>0.122662940426418</dd>\n",
       "\t<dt>nox</dt>\n",
       "\t\t<dd>-0.670726734613593</dd>\n",
       "\t<dt>rm</dt>\n",
       "\t\t<dd>0.0699878708141004</dd>\n",
       "\t<dt>age</dt>\n",
       "\t\t<dd>0.000101122280223083</dd>\n",
       "\t<dt>dis</dt>\n",
       "\t\t<dd>-0.0619332910535991</dd>\n",
       "\t<dt>rad</dt>\n",
       "\t\t<dd>0.0144673164108677</dd>\n",
       "\t<dt>tax</dt>\n",
       "\t\t<dd>-0.000598296726043733</dd>\n",
       "\t<dt>ptratio</dt>\n",
       "\t\t<dd>-0.0355678980259806</dd>\n",
       "\t<dt>bk</dt>\n",
       "\t\t<dd>-0.399291643241476</dd>\n",
       "\t<dt>lstat</dt>\n",
       "\t\t<dd>-0.0363929598334403</dd>\n",
       "\t<dt>part</dt>\n",
       "\t\t<dd>-0.00892720545595114</dd>\n",
       "</dl>\n"
      ],
      "text/latex": [
       "\\begin{description*}\n",
       "\\item[(Intercept)] 4.42690623817788\n",
       "\\item[crim] -0.00927423054081376\n",
       "\\item[zn] 0.00145574388611928\n",
       "\\item[indus] 0.00359238539495567\n",
       "\\item[chas] 0.122662940426418\n",
       "\\item[nox] -0.670726734613593\n",
       "\\item[rm] 0.0699878708141004\n",
       "\\item[age] 0.000101122280223083\n",
       "\\item[dis] -0.0619332910535991\n",
       "\\item[rad] 0.0144673164108677\n",
       "\\item[tax] -0.000598296726043733\n",
       "\\item[ptratio] -0.0355678980259806\n",
       "\\item[bk] -0.399291643241476\n",
       "\\item[lstat] -0.0363929598334403\n",
       "\\item[part] -0.00892720545595114\n",
       "\\end{description*}\n"
      ],
      "text/markdown": [
       "(Intercept)\n",
       ":   4.42690623817788crim\n",
       ":   -0.00927423054081376zn\n",
       ":   0.00145574388611928indus\n",
       ":   0.00359238539495567chas\n",
       ":   0.122662940426418nox\n",
       ":   -0.670726734613593rm\n",
       ":   0.0699878708141004age\n",
       ":   0.000101122280223083dis\n",
       ":   -0.0619332910535991rad\n",
       ":   0.0144673164108677tax\n",
       ":   -0.000598296726043733ptratio\n",
       ":   -0.0355678980259806bk\n",
       ":   -0.399291643241476lstat\n",
       ":   -0.0363929598334403part\n",
       ":   -0.00892720545595114\n",
       "\n"
      ],
      "text/plain": [
       "  (Intercept)          crim            zn         indus          chas \n",
       " 4.4269062382 -0.0092742305  0.0014557439  0.0035923854  0.1226629404 \n",
       "          nox            rm           age           dis           rad \n",
       "-0.6707267346  0.0699878708  0.0001011223 -0.0619332911  0.0144673164 \n",
       "          tax       ptratio            bk         lstat          part \n",
       "-0.0005982967 -0.0355678980 -0.3992916432 -0.0363929598 -0.0089272055 "
      ]
     },
     "metadata": {},
     "output_type": "display_data"
    }
   ],
   "source": [
    "summary(lgr.model)\n",
    "lgr.model$coefficients"
   ]
  },
  {
   "cell_type": "markdown",
   "metadata": {},
   "source": [
    "*Which covariates have the strongest association with y? In particular, the study focused on the effect of air pollution, measured through the concentrations of nitrogen oxide pollutants (nox) and particulate (part).*"
   ]
  },
  {
   "cell_type": "markdown",
   "metadata": {},
   "source": [
    "#### Correlations"
   ]
  },
  {
   "cell_type": "code",
   "execution_count": 9,
   "metadata": {},
   "outputs": [
    {
     "data": {
      "text/html": [
       "<table>\n",
       "<thead><tr><th></th><th scope=col>y</th></tr></thead>\n",
       "<tbody>\n",
       "\t<tr><th scope=row>y</th><td> 1.00000000</td></tr>\n",
       "\t<tr><th scope=row>lstat</th><td>-0.84057651</td></tr>\n",
       "\t<tr><th scope=row>rm</th><td> 0.62856668</td></tr>\n",
       "\t<tr><th scope=row>tax</th><td>-0.56875320</td></tr>\n",
       "\t<tr><th scope=row>indus</th><td>-0.55433246</td></tr>\n",
       "\t<tr><th scope=row>nox</th><td>-0.52532741</td></tr>\n",
       "\t<tr><th scope=row>crim</th><td>-0.52429359</td></tr>\n",
       "\t<tr><th scope=row>ptratio</th><td>-0.50639657</td></tr>\n",
       "\t<tr><th scope=row>rad</th><td>-0.49478292</td></tr>\n",
       "\t<tr><th scope=row>age</th><td>-0.48137089</td></tr>\n",
       "\t<tr><th scope=row>zn</th><td> 0.36959386</td></tr>\n",
       "\t<tr><th scope=row>bk</th><td>-0.36270280</td></tr>\n",
       "\t<tr><th scope=row>dis</th><td> 0.35188624</td></tr>\n",
       "\t<tr><th scope=row>chas</th><td> 0.14996797</td></tr>\n",
       "\t<tr><th scope=row>part</th><td>-0.06511261</td></tr>\n",
       "</tbody>\n",
       "</table>\n"
      ],
      "text/latex": [
       "\\begin{tabular}{r|l}\n",
       "  & y\\\\\n",
       "\\hline\n",
       "\ty &  1.00000000\\\\\n",
       "\tlstat & -0.84057651\\\\\n",
       "\trm &  0.62856668\\\\\n",
       "\ttax & -0.56875320\\\\\n",
       "\tindus & -0.55433246\\\\\n",
       "\tnox & -0.52532741\\\\\n",
       "\tcrim & -0.52429359\\\\\n",
       "\tptratio & -0.50639657\\\\\n",
       "\trad & -0.49478292\\\\\n",
       "\tage & -0.48137089\\\\\n",
       "\tzn &  0.36959386\\\\\n",
       "\tbk & -0.36270280\\\\\n",
       "\tdis &  0.35188624\\\\\n",
       "\tchas &  0.14996797\\\\\n",
       "\tpart & -0.06511261\\\\\n",
       "\\end{tabular}\n"
      ],
      "text/markdown": [
       "\n",
       "| <!--/--> | y | \n",
       "|---|---|---|---|---|---|---|---|---|---|---|---|---|---|---|\n",
       "| y |  1.00000000 | \n",
       "| lstat | -0.84057651 | \n",
       "| rm |  0.62856668 | \n",
       "| tax | -0.56875320 | \n",
       "| indus | -0.55433246 | \n",
       "| nox | -0.52532741 | \n",
       "| crim | -0.52429359 | \n",
       "| ptratio | -0.50639657 | \n",
       "| rad | -0.49478292 | \n",
       "| age | -0.48137089 | \n",
       "| zn |  0.36959386 | \n",
       "| bk | -0.36270280 | \n",
       "| dis |  0.35188624 | \n",
       "| chas |  0.14996797 | \n",
       "| part | -0.06511261 | \n",
       "\n",
       "\n"
      ],
      "text/plain": [
       "        y          \n",
       "y        1.00000000\n",
       "lstat   -0.84057651\n",
       "rm       0.62856668\n",
       "tax     -0.56875320\n",
       "indus   -0.55433246\n",
       "nox     -0.52532741\n",
       "crim    -0.52429359\n",
       "ptratio -0.50639657\n",
       "rad     -0.49478292\n",
       "age     -0.48137089\n",
       "zn       0.36959386\n",
       "bk      -0.36270280\n",
       "dis      0.35188624\n",
       "chas     0.14996797\n",
       "part    -0.06511261"
      ]
     },
     "metadata": {},
     "output_type": "display_data"
    }
   ],
   "source": [
    "correlations = cor(training.data, training.data['y'], method = \"pearson\")\n",
    "SortData(correlations)"
   ]
  },
  {
   "cell_type": "markdown",
   "metadata": {},
   "source": [
    "#### Coefficients on a standardized regression model"
   ]
  },
  {
   "cell_type": "code",
   "execution_count": 10,
   "metadata": {},
   "outputs": [
    {
     "data": {
      "text/html": [
       "<table>\n",
       "<thead><tr><th></th><th scope=col>data</th></tr></thead>\n",
       "<tbody>\n",
       "\t<tr><th scope=row>lstat</th><td>-6.245181e-01</td></tr>\n",
       "\t<tr><th scope=row>rad</th><td> 3.162886e-01</td></tr>\n",
       "\t<tr><th scope=row>dis</th><td>-3.095360e-01</td></tr>\n",
       "\t<tr><th scope=row>tax</th><td>-2.538477e-01</td></tr>\n",
       "\t<tr><th scope=row>crim</th><td>-2.029852e-01</td></tr>\n",
       "\t<tr><th scope=row>nox</th><td>-1.977650e-01</td></tr>\n",
       "\t<tr><th scope=row>ptratio</th><td>-1.907376e-01</td></tr>\n",
       "\t<tr><th scope=row>rm</th><td> 1.197933e-01</td></tr>\n",
       "\t<tr><th scope=row>bk</th><td>-1.135118e-01</td></tr>\n",
       "\t<tr><th scope=row>zn</th><td> 8.091898e-02</td></tr>\n",
       "\t<tr><th scope=row>chas</th><td> 7.792639e-02</td></tr>\n",
       "\t<tr><th scope=row>indus</th><td> 6.023866e-02</td></tr>\n",
       "\t<tr><th scope=row>part</th><td>-2.539273e-02</td></tr>\n",
       "\t<tr><th scope=row>age</th><td> 6.686262e-03</td></tr>\n",
       "\t<tr><th scope=row>(Intercept)</th><td>-2.212674e-16</td></tr>\n",
       "</tbody>\n",
       "</table>\n"
      ],
      "text/latex": [
       "\\begin{tabular}{r|l}\n",
       "  & data\\\\\n",
       "\\hline\n",
       "\tlstat & -6.245181e-01\\\\\n",
       "\trad &  3.162886e-01\\\\\n",
       "\tdis & -3.095360e-01\\\\\n",
       "\ttax & -2.538477e-01\\\\\n",
       "\tcrim & -2.029852e-01\\\\\n",
       "\tnox & -1.977650e-01\\\\\n",
       "\tptratio & -1.907376e-01\\\\\n",
       "\trm &  1.197933e-01\\\\\n",
       "\tbk & -1.135118e-01\\\\\n",
       "\tzn &  8.091898e-02\\\\\n",
       "\tchas &  7.792639e-02\\\\\n",
       "\tindus &  6.023866e-02\\\\\n",
       "\tpart & -2.539273e-02\\\\\n",
       "\tage &  6.686262e-03\\\\\n",
       "\t(Intercept) & -2.212674e-16\\\\\n",
       "\\end{tabular}\n"
      ],
      "text/markdown": [
       "\n",
       "| <!--/--> | data | \n",
       "|---|---|---|---|---|---|---|---|---|---|---|---|---|---|---|\n",
       "| lstat | -6.245181e-01 | \n",
       "| rad |  3.162886e-01 | \n",
       "| dis | -3.095360e-01 | \n",
       "| tax | -2.538477e-01 | \n",
       "| crim | -2.029852e-01 | \n",
       "| nox | -1.977650e-01 | \n",
       "| ptratio | -1.907376e-01 | \n",
       "| rm |  1.197933e-01 | \n",
       "| bk | -1.135118e-01 | \n",
       "| zn |  8.091898e-02 | \n",
       "| chas |  7.792639e-02 | \n",
       "| indus |  6.023866e-02 | \n",
       "| part | -2.539273e-02 | \n",
       "| age |  6.686262e-03 | \n",
       "| (Intercept) | -2.212674e-16 | \n",
       "\n",
       "\n"
      ],
      "text/plain": [
       "            data         \n",
       "lstat       -6.245181e-01\n",
       "rad          3.162886e-01\n",
       "dis         -3.095360e-01\n",
       "tax         -2.538477e-01\n",
       "crim        -2.029852e-01\n",
       "nox         -1.977650e-01\n",
       "ptratio     -1.907376e-01\n",
       "rm           1.197933e-01\n",
       "bk          -1.135118e-01\n",
       "zn           8.091898e-02\n",
       "chas         7.792639e-02\n",
       "indus        6.023866e-02\n",
       "part        -2.539273e-02\n",
       "age          6.686262e-03\n",
       "(Intercept) -2.212674e-16"
      ]
     },
     "metadata": {},
     "output_type": "display_data"
    }
   ],
   "source": [
    "scaled.training.data = lapply(training.data, scale)\n",
    "scaled.model = lm(y ~ ., scaled.training.data)o"
   ]
  },
  {
   "cell_type": "code",
   "execution_count": null,
   "metadata": {
    "collapsed": true
   },
   "outputs": [],
   "source": [
    "SortData(scaled.model$coefficients)"
   ]
  },
  {
   "cell_type": "code",
   "execution_count": null,
   "metadata": {
    "collapsed": true
   },
   "outputs": [],
   "source": []
  },
  {
   "cell_type": "markdown",
   "metadata": {
    "collapsed": true
   },
   "source": [
    "#### Incremental/partial R2\n",
    "\n",
    "Gain in R2 when adding variable as the last one\n",
    "TODO"
   ]
  },
  {
   "cell_type": "markdown",
   "metadata": {},
   "source": [
    "*Do they have any effect on the house price? If yes, which kind of effect?*\n",
    "\n",
    "- **part** has a (statistically insignificant) negative effect on housing prices\n",
    "- **nox** has a (statistically significant) negative effect on housing prices"
   ]
  },
  {
   "cell_type": "markdown",
   "metadata": {},
   "source": [
    "### 1.2 Evaluation\n",
    "\n",
    "*The model above can be also used to predict the price for the other tracts (test set).*\n",
    "\n",
    "*Compute the prediction error on the test data.*"
   ]
  },
  {
   "cell_type": "code",
   "execution_count": 12,
   "metadata": {
    "collapsed": true
   },
   "outputs": [],
   "source": [
    "RMSE = function(model, data) {\n",
    "  predictions = predict(model, data)\n",
    "  prediction.error = sqrt(mean((predictions - data$y)^2))\n",
    "  return(prediction.error)\n",
    "}"
   ]
  },
  {
   "cell_type": "code",
   "execution_count": 15,
   "metadata": {},
   "outputs": [
    {
     "data": {
      "text/html": [
       "0.214761101644916"
      ],
      "text/latex": [
       "0.214761101644916"
      ],
      "text/markdown": [
       "0.214761101644916"
      ],
      "text/plain": [
       "[1] 0.2147611"
      ]
     },
     "metadata": {},
     "output_type": "display_data"
    }
   ],
   "source": [
    "RMSE(lgr.model, test.data)"
   ]
  },
  {
   "cell_type": "markdown",
   "metadata": {},
   "source": [
    "*Moreover, derive two reduced models by applying a backward elimination procedure with AIC and α = 0.05 as stopping criteria, respectively. For both models, report the estimated coefficients and the prediction error estimated on the test data. Comment the results.*"
   ]
  },
  {
   "cell_type": "markdown",
   "metadata": {},
   "source": [
    "#### Backard elimination with AIC as stopping criteria"
   ]
  },
  {
   "cell_type": "code",
   "execution_count": 14,
   "metadata": {},
   "outputs": [
    {
     "name": "stdout",
     "output_type": "stream",
     "text": [
      "Start:  AIC=-882.01\n",
      "y ~ crim + zn + indus + chas + nox + rm + age + dis + rad + tax + \n",
      "    ptratio + bk + lstat + part\n",
      "\n",
      "          Df Sum of Sq     RSS     AIC\n",
      "- age      1    0.0006  6.8805 -883.99\n",
      "- part     1    0.0252  6.9051 -883.09\n",
      "- indus    1    0.0358  6.9156 -882.70\n",
      "<none>                  6.8799 -882.01\n",
      "- zn       1    0.1113  6.9911 -879.95\n",
      "- chas     1    0.2300  7.1098 -875.69\n",
      "- tax      1    0.2736  7.1535 -874.14\n",
      "- rm       1    0.3140  7.1939 -872.72\n",
      "- nox      1    0.3304  7.2103 -872.14\n",
      "- bk       1    0.4368  7.3166 -868.44\n",
      "- rad      1    0.5016  7.3814 -866.21\n",
      "- ptratio  1    0.7161  7.5960 -858.96\n",
      "- crim     1    0.9588  7.8387 -851.00\n",
      "- dis      1    1.0300  7.9099 -848.71\n",
      "- lstat    1    5.3725 12.2524 -738.00\n",
      "\n",
      "Step:  AIC=-883.99\n",
      "y ~ crim + zn + indus + chas + nox + rm + dis + rad + tax + ptratio + \n",
      "    bk + lstat + part\n",
      "\n",
      "          Df Sum of Sq     RSS     AIC\n",
      "- part     1    0.0263  6.9068 -885.02\n",
      "- indus    1    0.0357  6.9162 -884.68\n",
      "<none>                  6.8805 -883.99\n",
      "- zn       1    0.1109  6.9913 -881.95\n",
      "- chas     1    0.2327  7.1131 -877.58\n",
      "- tax      1    0.2732  7.1537 -876.14\n",
      "- rm       1    0.3405  7.2210 -873.77\n",
      "- nox      1    0.3544  7.2349 -873.28\n",
      "- bk       1    0.4362  7.3166 -870.44\n",
      "- rad      1    0.5034  7.3838 -868.13\n",
      "- ptratio  1    0.7278  7.6083 -860.55\n",
      "- crim     1    0.9582  7.8387 -853.00\n",
      "- dis      1    1.1162  7.9967 -847.95\n",
      "- lstat    1    5.9177 12.7981 -728.97\n",
      "\n",
      "Step:  AIC=-885.02\n",
      "y ~ crim + zn + indus + chas + nox + rm + dis + rad + tax + ptratio + \n",
      "    bk + lstat\n",
      "\n",
      "          Df Sum of Sq     RSS     AIC\n",
      "- indus    1    0.0380  6.9448 -885.64\n",
      "<none>                  6.9068 -885.02\n",
      "- zn       1    0.1111  7.0179 -882.99\n",
      "- chas     1    0.2478  7.1546 -878.11\n",
      "- tax      1    0.2637  7.1704 -877.55\n",
      "- rm       1    0.3302  7.2369 -875.21\n",
      "- nox      1    0.3536  7.2604 -874.39\n",
      "- bk       1    0.4571  7.3639 -870.81\n",
      "- rad      1    0.4904  7.3972 -869.67\n",
      "- ptratio  1    0.7162  7.6230 -862.06\n",
      "- crim     1    0.9631  7.8698 -854.00\n",
      "- dis      1    1.0966  8.0034 -849.74\n",
      "- lstat    1    5.9870 12.8938 -729.09\n",
      "\n",
      "Step:  AIC=-885.64\n",
      "y ~ crim + zn + chas + nox + rm + dis + rad + tax + ptratio + \n",
      "    bk + lstat\n",
      "\n",
      "          Df Sum of Sq     RSS     AIC\n",
      "<none>                  6.9448 -885.64\n",
      "- zn       1    0.0979  7.0427 -884.10\n",
      "- tax      1    0.2265  7.1712 -879.52\n",
      "- chas     1    0.2834  7.2282 -877.52\n",
      "- nox      1    0.3156  7.2604 -876.39\n",
      "- rm       1    0.3186  7.2634 -876.29\n",
      "- bk       1    0.4488  7.3935 -871.79\n",
      "- rad      1    0.4527  7.3975 -871.66\n",
      "- ptratio  1    0.6861  7.6308 -863.80\n",
      "- crim     1    0.9699  7.9147 -854.56\n",
      "- dis      1    1.1580  8.1028 -848.62\n",
      "- lstat    1    5.9502 12.8950 -731.07\n"
     ]
    }
   ],
   "source": [
    "aic.elimination.model = lm(y ~ ., training.data)\n",
    "aic.elimination.model = step(aic.elimination.model, direction = \"backward\")"
   ]
  },
  {
   "cell_type": "code",
   "execution_count": 15,
   "metadata": {},
   "outputs": [
    {
     "data": {
      "text/html": [
       "<dl class=dl-horizontal>\n",
       "\t<dt>(Intercept)</dt>\n",
       "\t\t<dd>4.35831756088218</dd>\n",
       "\t<dt>crim</dt>\n",
       "\t\t<dd>-0.0093233318372998</dd>\n",
       "\t<dt>zn</dt>\n",
       "\t\t<dd>0.00134721069763396</dd>\n",
       "\t<dt>chas</dt>\n",
       "\t\t<dd>0.133889250179376</dd>\n",
       "\t<dt>nox</dt>\n",
       "\t\t<dd>-0.587877397866163</dd>\n",
       "\t<dt>rm</dt>\n",
       "\t\t<dd>0.0681740354387974</dd>\n",
       "\t<dt>dis</dt>\n",
       "\t\t<dd>-0.0628805947047279</dd>\n",
       "\t<dt>rad</dt>\n",
       "\t\t<dd>0.0131911758694658</dd>\n",
       "\t<dt>tax</dt>\n",
       "\t\t<dd>-0.000490508368033427</dd>\n",
       "\t<dt>ptratio</dt>\n",
       "\t\t<dd>-0.0340597069475341</dd>\n",
       "\t<dt>bk</dt>\n",
       "\t\t<dd>-0.402911164582141</dd>\n",
       "\t<dt>lstat</dt>\n",
       "\t\t<dd>-0.0361469832334543</dd>\n",
       "</dl>\n"
      ],
      "text/latex": [
       "\\begin{description*}\n",
       "\\item[(Intercept)] 4.35831756088218\n",
       "\\item[crim] -0.0093233318372998\n",
       "\\item[zn] 0.00134721069763396\n",
       "\\item[chas] 0.133889250179376\n",
       "\\item[nox] -0.587877397866163\n",
       "\\item[rm] 0.0681740354387974\n",
       "\\item[dis] -0.0628805947047279\n",
       "\\item[rad] 0.0131911758694658\n",
       "\\item[tax] -0.000490508368033427\n",
       "\\item[ptratio] -0.0340597069475341\n",
       "\\item[bk] -0.402911164582141\n",
       "\\item[lstat] -0.0361469832334543\n",
       "\\end{description*}\n"
      ],
      "text/markdown": [
       "(Intercept)\n",
       ":   4.35831756088218crim\n",
       ":   -0.0093233318372998zn\n",
       ":   0.00134721069763396chas\n",
       ":   0.133889250179376nox\n",
       ":   -0.587877397866163rm\n",
       ":   0.0681740354387974dis\n",
       ":   -0.0628805947047279rad\n",
       ":   0.0131911758694658tax\n",
       ":   -0.000490508368033427ptratio\n",
       ":   -0.0340597069475341bk\n",
       ":   -0.402911164582141lstat\n",
       ":   -0.0361469832334543\n",
       "\n"
      ],
      "text/plain": [
       "  (Intercept)          crim            zn          chas           nox \n",
       " 4.3583175609 -0.0093233318  0.0013472107  0.1338892502 -0.5878773979 \n",
       "           rm           dis           rad           tax       ptratio \n",
       " 0.0681740354 -0.0628805947  0.0131911759 -0.0004905084 -0.0340597069 \n",
       "           bk         lstat \n",
       "-0.4029111646 -0.0361469832 "
      ]
     },
     "metadata": {},
     "output_type": "display_data"
    }
   ],
   "source": [
    "aic.elimination.model$coefficients"
   ]
  },
  {
   "cell_type": "code",
   "execution_count": 16,
   "metadata": {},
   "outputs": [
    {
     "data": {
      "text/html": [
       "0.214302510511251"
      ],
      "text/latex": [
       "0.214302510511251"
      ],
      "text/markdown": [
       "0.214302510511251"
      ],
      "text/plain": [
       "[1] 0.2143025"
      ]
     },
     "metadata": {},
     "output_type": "display_data"
    }
   ],
   "source": [
    "RMSE(aic.elimination.model, test.data)"
   ]
  },
  {
   "cell_type": "markdown",
   "metadata": {},
   "source": [
    "Removes age, part, indus"
   ]
  },
  {
   "cell_type": "markdown",
   "metadata": {},
   "source": [
    "#### Backward elimination with α = 0.05 as stopping criteria"
   ]
  },
  {
   "cell_type": "markdown",
   "metadata": {},
   "source": [
    "Comment: Use p-value as both stopping and selection criteria"
   ]
  },
  {
   "cell_type": "code",
   "execution_count": 17,
   "metadata": {
    "collapsed": true
   },
   "outputs": [],
   "source": [
    "PValues = function(model) {\n",
    "  return(summary(model)$coefficients[-1, 4])\n",
    "}"
   ]
  },
  {
   "cell_type": "code",
   "execution_count": 18,
   "metadata": {
    "collapsed": true
   },
   "outputs": [],
   "source": [
    "alpha.elimination.model = NULL\n",
    "alpha.elimination.data = training.data\n",
    "\n",
    "repeat {\n",
    "  alpha.elimination.model = lm(y ~ ., alpha.elimination.data)\n",
    "\n",
    "  if (all(PValues(alpha.elimination.model) <= 0.05)) {\n",
    "    break;\n",
    "  }\n",
    "  \n",
    "  p.values = PValues(alpha.elimination.model)\n",
    "  highest.p.value = p.values[which.max(p.values)]\n",
    "  predictor.with.highest.p.value = names(highest.p.value)\n",
    "  alpha.elimination.data = AllColumnsExcept(alpha.elimination.data, predictor.with.highest.p.value) \n",
    "}"
   ]
  },
  {
   "cell_type": "code",
   "execution_count": 19,
   "metadata": {},
   "outputs": [
    {
     "data": {
      "text/html": [
       "<dl class=dl-horizontal>\n",
       "\t<dt>(Intercept)</dt>\n",
       "\t\t<dd>4.40750949892825</dd>\n",
       "\t<dt>crim</dt>\n",
       "\t\t<dd>-0.0090857604952737</dd>\n",
       "\t<dt>chas</dt>\n",
       "\t\t<dd>0.130090729805303</dd>\n",
       "\t<dt>nox</dt>\n",
       "\t\t<dd>-0.627707347091635</dd>\n",
       "\t<dt>rm</dt>\n",
       "\t\t<dd>0.0727657497299445</dd>\n",
       "\t<dt>dis</dt>\n",
       "\t\t<dd>-0.0537378737163828</dd>\n",
       "\t<dt>rad</dt>\n",
       "\t\t<dd>0.0132326502738295</dd>\n",
       "\t<dt>tax</dt>\n",
       "\t\t<dd>-0.000445034361738543</dd>\n",
       "\t<dt>ptratio</dt>\n",
       "\t\t<dd>-0.0392956598083025</dd>\n",
       "\t<dt>bk</dt>\n",
       "\t\t<dd>-0.402780896901715</dd>\n",
       "\t<dt>lstat</dt>\n",
       "\t\t<dd>-0.0360381786788926</dd>\n",
       "</dl>\n"
      ],
      "text/latex": [
       "\\begin{description*}\n",
       "\\item[(Intercept)] 4.40750949892825\n",
       "\\item[crim] -0.0090857604952737\n",
       "\\item[chas] 0.130090729805303\n",
       "\\item[nox] -0.627707347091635\n",
       "\\item[rm] 0.0727657497299445\n",
       "\\item[dis] -0.0537378737163828\n",
       "\\item[rad] 0.0132326502738295\n",
       "\\item[tax] -0.000445034361738543\n",
       "\\item[ptratio] -0.0392956598083025\n",
       "\\item[bk] -0.402780896901715\n",
       "\\item[lstat] -0.0360381786788926\n",
       "\\end{description*}\n"
      ],
      "text/markdown": [
       "(Intercept)\n",
       ":   4.40750949892825crim\n",
       ":   -0.0090857604952737chas\n",
       ":   0.130090729805303nox\n",
       ":   -0.627707347091635rm\n",
       ":   0.0727657497299445dis\n",
       ":   -0.0537378737163828rad\n",
       ":   0.0132326502738295tax\n",
       ":   -0.000445034361738543ptratio\n",
       ":   -0.0392956598083025bk\n",
       ":   -0.402780896901715lstat\n",
       ":   -0.0360381786788926\n",
       "\n"
      ],
      "text/plain": [
       "  (Intercept)          crim          chas           nox            rm \n",
       " 4.4075094989 -0.0090857605  0.1300907298 -0.6277073471  0.0727657497 \n",
       "          dis           rad           tax       ptratio            bk \n",
       "-0.0537378737  0.0132326503 -0.0004450344 -0.0392956598 -0.4027808969 \n",
       "        lstat \n",
       "-0.0360381787 "
      ]
     },
     "metadata": {},
     "output_type": "display_data"
    }
   ],
   "source": [
    "alpha.elimination.model$coefficients"
   ]
  },
  {
   "cell_type": "code",
   "execution_count": 20,
   "metadata": {},
   "outputs": [
    {
     "data": {
      "text/html": [
       "0.214420320465987"
      ],
      "text/latex": [
       "0.214420320465987"
      ],
      "text/markdown": [
       "0.214420320465987"
      ],
      "text/plain": [
       "[1] 0.2144203"
      ]
     },
     "metadata": {},
     "output_type": "display_data"
    }
   ],
   "source": [
    "RMSE(alpha.elimination.model, test.data)"
   ]
  },
  {
   "cell_type": "markdown",
   "metadata": {},
   "source": [
    "Discuss: P-value removes one more variable (zn) than AIC."
   ]
  },
  {
   "cell_type": "markdown",
   "metadata": {},
   "source": [
    "Discuss: Inflated p-value (increase risk of type 1 error)"
   ]
  },
  {
   "cell_type": "markdown",
   "metadata": {},
   "source": [
    "### 1.3 Principal Component Regression\n",
    "\n",
    "*Estimate a principal component regression model, selecting the number of components by 10-fold cross-validation.*"
   ]
  },
  {
   "cell_type": "markdown",
   "metadata": {},
   "source": [
    "Discuss: Standardizion\n",
    "\n",
    "Consider: Use oneSE rule"
   ]
  },
  {
   "cell_type": "code",
   "execution_count": 35,
   "metadata": {
    "collapsed": true
   },
   "outputs": [],
   "source": [
    "PCRModel = function(data, method, number) {\n",
    "    set.seed(4030)\n",
    "    model = train(\n",
    "        y ~ .,\n",
    "        data,\n",
    "        method = \"pcr\",\n",
    "        # Include 1 to 14 principal components\n",
    "        tuneGrid = expand.grid(ncomp = 1:14),\n",
    "        # During CV, pre-processing parameters are determined from 9 of the 10 folds, then applied to the 10th\n",
    "        preProcess = c(\"scale\"),\n",
    "        trControl = trainControl(\n",
    "            method = method,\n",
    "            number = number\n",
    "        ))\n",
    "    model$num.of.components = model$bestTune$ncomp\n",
    "    return(model)\n",
    "}"
   ]
  },
  {
   "cell_type": "code",
   "execution_count": 36,
   "metadata": {},
   "outputs": [
    {
     "data": {
      "text/html": [
       "<table>\n",
       "<thead><tr><th scope=col>ncomp</th><th scope=col>RMSE</th><th scope=col>Rsquared</th><th scope=col>MAE</th><th scope=col>RMSESD</th><th scope=col>RsquaredSD</th><th scope=col>MAESD</th></tr></thead>\n",
       "<tbody>\n",
       "\t<tr><td> 1        </td><td>0.2763718 </td><td>0.5378163 </td><td>0.2108739 </td><td>0.07239596</td><td>0.17255558</td><td>0.05506233</td></tr>\n",
       "\t<tr><td> 2        </td><td>0.2714324 </td><td>0.5610061 </td><td>0.2079697 </td><td>0.06343427</td><td>0.15437409</td><td>0.04227620</td></tr>\n",
       "\t<tr><td> 3        </td><td>0.2482814 </td><td>0.6376104 </td><td>0.1795553 </td><td>0.05798842</td><td>0.13194245</td><td>0.03580606</td></tr>\n",
       "\t<tr><td> 4        </td><td>0.2387057 </td><td>0.6630701 </td><td>0.1712795 </td><td>0.05183052</td><td>0.11997343</td><td>0.03193207</td></tr>\n",
       "\t<tr><td> 5        </td><td>0.2175733 </td><td>0.7207076 </td><td>0.1522210 </td><td>0.05443111</td><td>0.12270545</td><td>0.03135261</td></tr>\n",
       "\t<tr><td> 6        </td><td>0.2072923 </td><td>0.7410145 </td><td>0.1481009 </td><td>0.06556232</td><td>0.13770523</td><td>0.03680555</td></tr>\n",
       "\t<tr><td> 7        </td><td>0.2087002 </td><td>0.7368135 </td><td>0.1474513 </td><td>0.06663998</td><td>0.13790149</td><td>0.03622257</td></tr>\n",
       "\t<tr><td> 8        </td><td>0.2014379 </td><td>0.7647016 </td><td>0.1411029 </td><td>0.06494232</td><td>0.12977845</td><td>0.03612086</td></tr>\n",
       "\t<tr><td> 9        </td><td>0.1908346 </td><td>0.7835779 </td><td>0.1374645 </td><td>0.06145838</td><td>0.12001075</td><td>0.03609148</td></tr>\n",
       "\t<tr><td>10        </td><td>0.1935024 </td><td>0.7821185 </td><td>0.1407182 </td><td>0.05522173</td><td>0.10913354</td><td>0.03155260</td></tr>\n",
       "\t<tr><td>11        </td><td>0.1881327 </td><td>0.7989487 </td><td>0.1401243 </td><td>0.04994587</td><td>0.09237686</td><td>0.02850172</td></tr>\n",
       "\t<tr><td>12        </td><td>0.1846287 </td><td>0.8056235 </td><td>0.1398650 </td><td>0.04316976</td><td>0.07966431</td><td>0.02426044</td></tr>\n",
       "\t<tr><td>13        </td><td>0.1803250 </td><td>0.8144979 </td><td>0.1377816 </td><td>0.03711465</td><td>0.06333929</td><td>0.02218875</td></tr>\n",
       "\t<tr><td>14        </td><td>0.1761937 </td><td>0.8241826 </td><td>0.1334097 </td><td>0.03484100</td><td>0.05250511</td><td>0.01809589</td></tr>\n",
       "</tbody>\n",
       "</table>\n"
      ],
      "text/latex": [
       "\\begin{tabular}{r|lllllll}\n",
       " ncomp & RMSE & Rsquared & MAE & RMSESD & RsquaredSD & MAESD\\\\\n",
       "\\hline\n",
       "\t  1         & 0.2763718  & 0.5378163  & 0.2108739  & 0.07239596 & 0.17255558 & 0.05506233\\\\\n",
       "\t  2         & 0.2714324  & 0.5610061  & 0.2079697  & 0.06343427 & 0.15437409 & 0.04227620\\\\\n",
       "\t  3         & 0.2482814  & 0.6376104  & 0.1795553  & 0.05798842 & 0.13194245 & 0.03580606\\\\\n",
       "\t  4         & 0.2387057  & 0.6630701  & 0.1712795  & 0.05183052 & 0.11997343 & 0.03193207\\\\\n",
       "\t  5         & 0.2175733  & 0.7207076  & 0.1522210  & 0.05443111 & 0.12270545 & 0.03135261\\\\\n",
       "\t  6         & 0.2072923  & 0.7410145  & 0.1481009  & 0.06556232 & 0.13770523 & 0.03680555\\\\\n",
       "\t  7         & 0.2087002  & 0.7368135  & 0.1474513  & 0.06663998 & 0.13790149 & 0.03622257\\\\\n",
       "\t  8         & 0.2014379  & 0.7647016  & 0.1411029  & 0.06494232 & 0.12977845 & 0.03612086\\\\\n",
       "\t  9         & 0.1908346  & 0.7835779  & 0.1374645  & 0.06145838 & 0.12001075 & 0.03609148\\\\\n",
       "\t 10         & 0.1935024  & 0.7821185  & 0.1407182  & 0.05522173 & 0.10913354 & 0.03155260\\\\\n",
       "\t 11         & 0.1881327  & 0.7989487  & 0.1401243  & 0.04994587 & 0.09237686 & 0.02850172\\\\\n",
       "\t 12         & 0.1846287  & 0.8056235  & 0.1398650  & 0.04316976 & 0.07966431 & 0.02426044\\\\\n",
       "\t 13         & 0.1803250  & 0.8144979  & 0.1377816  & 0.03711465 & 0.06333929 & 0.02218875\\\\\n",
       "\t 14         & 0.1761937  & 0.8241826  & 0.1334097  & 0.03484100 & 0.05250511 & 0.01809589\\\\\n",
       "\\end{tabular}\n"
      ],
      "text/markdown": [
       "\n",
       "ncomp | RMSE | Rsquared | MAE | RMSESD | RsquaredSD | MAESD | \n",
       "|---|---|---|---|---|---|---|---|---|---|---|---|---|---|\n",
       "|  1         | 0.2763718  | 0.5378163  | 0.2108739  | 0.07239596 | 0.17255558 | 0.05506233 | \n",
       "|  2         | 0.2714324  | 0.5610061  | 0.2079697  | 0.06343427 | 0.15437409 | 0.04227620 | \n",
       "|  3         | 0.2482814  | 0.6376104  | 0.1795553  | 0.05798842 | 0.13194245 | 0.03580606 | \n",
       "|  4         | 0.2387057  | 0.6630701  | 0.1712795  | 0.05183052 | 0.11997343 | 0.03193207 | \n",
       "|  5         | 0.2175733  | 0.7207076  | 0.1522210  | 0.05443111 | 0.12270545 | 0.03135261 | \n",
       "|  6         | 0.2072923  | 0.7410145  | 0.1481009  | 0.06556232 | 0.13770523 | 0.03680555 | \n",
       "|  7         | 0.2087002  | 0.7368135  | 0.1474513  | 0.06663998 | 0.13790149 | 0.03622257 | \n",
       "|  8         | 0.2014379  | 0.7647016  | 0.1411029  | 0.06494232 | 0.12977845 | 0.03612086 | \n",
       "|  9         | 0.1908346  | 0.7835779  | 0.1374645  | 0.06145838 | 0.12001075 | 0.03609148 | \n",
       "| 10         | 0.1935024  | 0.7821185  | 0.1407182  | 0.05522173 | 0.10913354 | 0.03155260 | \n",
       "| 11         | 0.1881327  | 0.7989487  | 0.1401243  | 0.04994587 | 0.09237686 | 0.02850172 | \n",
       "| 12         | 0.1846287  | 0.8056235  | 0.1398650  | 0.04316976 | 0.07966431 | 0.02426044 | \n",
       "| 13         | 0.1803250  | 0.8144979  | 0.1377816  | 0.03711465 | 0.06333929 | 0.02218875 | \n",
       "| 14         | 0.1761937  | 0.8241826  | 0.1334097  | 0.03484100 | 0.05250511 | 0.01809589 | \n",
       "\n",
       "\n"
      ],
      "text/plain": [
       "   ncomp RMSE      Rsquared  MAE       RMSESD     RsquaredSD MAESD     \n",
       "1   1    0.2763718 0.5378163 0.2108739 0.07239596 0.17255558 0.05506233\n",
       "2   2    0.2714324 0.5610061 0.2079697 0.06343427 0.15437409 0.04227620\n",
       "3   3    0.2482814 0.6376104 0.1795553 0.05798842 0.13194245 0.03580606\n",
       "4   4    0.2387057 0.6630701 0.1712795 0.05183052 0.11997343 0.03193207\n",
       "5   5    0.2175733 0.7207076 0.1522210 0.05443111 0.12270545 0.03135261\n",
       "6   6    0.2072923 0.7410145 0.1481009 0.06556232 0.13770523 0.03680555\n",
       "7   7    0.2087002 0.7368135 0.1474513 0.06663998 0.13790149 0.03622257\n",
       "8   8    0.2014379 0.7647016 0.1411029 0.06494232 0.12977845 0.03612086\n",
       "9   9    0.1908346 0.7835779 0.1374645 0.06145838 0.12001075 0.03609148\n",
       "10 10    0.1935024 0.7821185 0.1407182 0.05522173 0.10913354 0.03155260\n",
       "11 11    0.1881327 0.7989487 0.1401243 0.04994587 0.09237686 0.02850172\n",
       "12 12    0.1846287 0.8056235 0.1398650 0.04316976 0.07966431 0.02426044\n",
       "13 13    0.1803250 0.8144979 0.1377816 0.03711465 0.06333929 0.02218875\n",
       "14 14    0.1761937 0.8241826 0.1334097 0.03484100 0.05250511 0.01809589"
      ]
     },
     "metadata": {},
     "output_type": "display_data"
    }
   ],
   "source": [
    "pcr.cv.model = PCRModel(training.data, 'CV', 10)\n",
    "pcr.cv.model$results"
   ]
  },
  {
   "cell_type": "code",
   "execution_count": 37,
   "metadata": {},
   "outputs": [
    {
     "data": {
      "text/html": [
       "0.214761101644916"
      ],
      "text/latex": [
       "0.214761101644916"
      ],
      "text/markdown": [
       "0.214761101644916"
      ],
      "text/plain": [
       "[1] 0.2147611"
      ]
     },
     "metadata": {},
     "output_type": "display_data"
    }
   ],
   "source": [
    "RMSE(pcr.cv.model, test.data)"
   ]
  },
  {
   "cell_type": "markdown",
   "metadata": {},
   "source": [
    "*How many components have been selected?*"
   ]
  },
  {
   "cell_type": "code",
   "execution_count": 38,
   "metadata": {},
   "outputs": [
    {
     "data": {
      "text/html": [
       "14"
      ],
      "text/latex": [
       "14"
      ],
      "text/markdown": [
       "14"
      ],
      "text/plain": [
       "[1] 14"
      ]
     },
     "metadata": {},
     "output_type": "display_data"
    }
   ],
   "source": [
    "pcr.cv.model$num.of.components"
   ]
  },
  {
   "cell_type": "markdown",
   "metadata": {},
   "source": [
    "*What does it mean?*\n",
    "\n",
    "TODO\n",
    "\n",
    "Discuss: All variables contribute with some variation"
   ]
  },
  {
   "cell_type": "markdown",
   "metadata": {},
   "source": [
    "### 1.4 PCR using .632 bootstrap\n",
    "\n",
    "*Repeat the procedure to choose the number of components by using the .632 bootstrap procedure.*"
   ]
  },
  {
   "cell_type": "code",
   "execution_count": 39,
   "metadata": {},
   "outputs": [
    {
     "data": {
      "text/html": [
       "<table>\n",
       "<thead><tr><th scope=col>ncomp</th><th scope=col>RMSE</th><th scope=col>Rsquared</th><th scope=col>MAE</th><th scope=col>RMSESD</th><th scope=col>RsquaredSD</th><th scope=col>MAESD</th><th scope=col>RMSEApparent</th><th scope=col>RsquaredApparent</th><th scope=col>MAEApparent</th></tr></thead>\n",
       "<tbody>\n",
       "\t<tr><td> 1        </td><td>0.2863948 </td><td>0.5009818 </td><td>0.2126434 </td><td>0.02515808</td><td>0.07118448</td><td>0.01657741</td><td>0.2846565 </td><td>0.5051366 </td><td>0.2109639 </td></tr>\n",
       "\t<tr><td> 2        </td><td>0.2751841 </td><td>0.5388360 </td><td>0.2061874 </td><td>0.02679436</td><td>0.07424027</td><td>0.01775282</td><td>0.2715134 </td><td>0.5497791 </td><td>0.2036324 </td></tr>\n",
       "\t<tr><td> 3        </td><td>0.2555808 </td><td>0.6026588 </td><td>0.1835885 </td><td>0.02884978</td><td>0.07875032</td><td>0.02010413</td><td>0.2484271 </td><td>0.6230872 </td><td>0.1764341 </td></tr>\n",
       "\t<tr><td> 4        </td><td>0.2443959 </td><td>0.6358841 </td><td>0.1741528 </td><td>0.02808502</td><td>0.07712200</td><td>0.01842157</td><td>0.2383149 </td><td>0.6531471 </td><td>0.1683601 </td></tr>\n",
       "\t<tr><td> 5        </td><td>0.2284280 </td><td>0.6803315 </td><td>0.1587133 </td><td>0.03157019</td><td>0.08603907</td><td>0.02103806</td><td>0.2131813 </td><td>0.7224500 </td><td>0.1438064 </td></tr>\n",
       "\t<tr><td> 6        </td><td>0.2223465 </td><td>0.6975219 </td><td>0.1538384 </td><td>0.03070494</td><td>0.08177574</td><td>0.01925407</td><td>0.2124619 </td><td>0.7243200 </td><td>0.1450717 </td></tr>\n",
       "\t<tr><td> 7        </td><td>0.2177125 </td><td>0.7100870 </td><td>0.1484483 </td><td>0.02908912</td><td>0.07611478</td><td>0.01614699</td><td>0.2113829 </td><td>0.7271130 </td><td>0.1417871 </td></tr>\n",
       "\t<tr><td> 8        </td><td>0.2085486 </td><td>0.7347672 </td><td>0.1418587 </td><td>0.02465259</td><td>0.06417257</td><td>0.01328933</td><td>0.2001549 </td><td>0.7553330 </td><td>0.1346697 </td></tr>\n",
       "\t<tr><td> 9        </td><td>0.1984373 </td><td>0.7591913 </td><td>0.1380014 </td><td>0.02386845</td><td>0.05729907</td><td>0.01274869</td><td>0.1887829 </td><td>0.7823452 </td><td>0.1307096 </td></tr>\n",
       "\t<tr><td>10        </td><td>0.1967646 </td><td>0.7633898 </td><td>0.1381763 </td><td>0.02347863</td><td>0.05791045</td><td>0.01226595</td><td>0.1864402 </td><td>0.7877137 </td><td>0.1302930 </td></tr>\n",
       "\t<tr><td>11        </td><td>0.1899104 </td><td>0.7794412 </td><td>0.1379786 </td><td>0.02188443</td><td>0.05003886</td><td>0.01146303</td><td>0.1763143 </td><td>0.8101468 </td><td>0.1301219 </td></tr>\n",
       "\t<tr><td>12        </td><td>0.1869594 </td><td>0.7862890 </td><td>0.1375215 </td><td>0.01990563</td><td>0.04537106</td><td>0.01099405</td><td>0.1750369 </td><td>0.8128877 </td><td>0.1299635 </td></tr>\n",
       "\t<tr><td>13        </td><td>0.1822979 </td><td>0.7970211 </td><td>0.1362717 </td><td>0.01745905</td><td>0.04020374</td><td>0.01104838</td><td>0.1703318 </td><td>0.8228120 </td><td>0.1279263 </td></tr>\n",
       "\t<tr><td>14        </td><td>0.1768894 </td><td>0.8089664 </td><td>0.1313783 </td><td>0.01623152</td><td>0.03799873</td><td>0.01010750</td><td>0.1649035 </td><td>0.8339256 </td><td>0.1227603 </td></tr>\n",
       "</tbody>\n",
       "</table>\n"
      ],
      "text/latex": [
       "\\begin{tabular}{r|llllllllll}\n",
       " ncomp & RMSE & Rsquared & MAE & RMSESD & RsquaredSD & MAESD & RMSEApparent & RsquaredApparent & MAEApparent\\\\\n",
       "\\hline\n",
       "\t  1         & 0.2863948  & 0.5009818  & 0.2126434  & 0.02515808 & 0.07118448 & 0.01657741 & 0.2846565  & 0.5051366  & 0.2109639 \\\\\n",
       "\t  2         & 0.2751841  & 0.5388360  & 0.2061874  & 0.02679436 & 0.07424027 & 0.01775282 & 0.2715134  & 0.5497791  & 0.2036324 \\\\\n",
       "\t  3         & 0.2555808  & 0.6026588  & 0.1835885  & 0.02884978 & 0.07875032 & 0.02010413 & 0.2484271  & 0.6230872  & 0.1764341 \\\\\n",
       "\t  4         & 0.2443959  & 0.6358841  & 0.1741528  & 0.02808502 & 0.07712200 & 0.01842157 & 0.2383149  & 0.6531471  & 0.1683601 \\\\\n",
       "\t  5         & 0.2284280  & 0.6803315  & 0.1587133  & 0.03157019 & 0.08603907 & 0.02103806 & 0.2131813  & 0.7224500  & 0.1438064 \\\\\n",
       "\t  6         & 0.2223465  & 0.6975219  & 0.1538384  & 0.03070494 & 0.08177574 & 0.01925407 & 0.2124619  & 0.7243200  & 0.1450717 \\\\\n",
       "\t  7         & 0.2177125  & 0.7100870  & 0.1484483  & 0.02908912 & 0.07611478 & 0.01614699 & 0.2113829  & 0.7271130  & 0.1417871 \\\\\n",
       "\t  8         & 0.2085486  & 0.7347672  & 0.1418587  & 0.02465259 & 0.06417257 & 0.01328933 & 0.2001549  & 0.7553330  & 0.1346697 \\\\\n",
       "\t  9         & 0.1984373  & 0.7591913  & 0.1380014  & 0.02386845 & 0.05729907 & 0.01274869 & 0.1887829  & 0.7823452  & 0.1307096 \\\\\n",
       "\t 10         & 0.1967646  & 0.7633898  & 0.1381763  & 0.02347863 & 0.05791045 & 0.01226595 & 0.1864402  & 0.7877137  & 0.1302930 \\\\\n",
       "\t 11         & 0.1899104  & 0.7794412  & 0.1379786  & 0.02188443 & 0.05003886 & 0.01146303 & 0.1763143  & 0.8101468  & 0.1301219 \\\\\n",
       "\t 12         & 0.1869594  & 0.7862890  & 0.1375215  & 0.01990563 & 0.04537106 & 0.01099405 & 0.1750369  & 0.8128877  & 0.1299635 \\\\\n",
       "\t 13         & 0.1822979  & 0.7970211  & 0.1362717  & 0.01745905 & 0.04020374 & 0.01104838 & 0.1703318  & 0.8228120  & 0.1279263 \\\\\n",
       "\t 14         & 0.1768894  & 0.8089664  & 0.1313783  & 0.01623152 & 0.03799873 & 0.01010750 & 0.1649035  & 0.8339256  & 0.1227603 \\\\\n",
       "\\end{tabular}\n"
      ],
      "text/markdown": [
       "\n",
       "ncomp | RMSE | Rsquared | MAE | RMSESD | RsquaredSD | MAESD | RMSEApparent | RsquaredApparent | MAEApparent | \n",
       "|---|---|---|---|---|---|---|---|---|---|---|---|---|---|\n",
       "|  1         | 0.2863948  | 0.5009818  | 0.2126434  | 0.02515808 | 0.07118448 | 0.01657741 | 0.2846565  | 0.5051366  | 0.2109639  | \n",
       "|  2         | 0.2751841  | 0.5388360  | 0.2061874  | 0.02679436 | 0.07424027 | 0.01775282 | 0.2715134  | 0.5497791  | 0.2036324  | \n",
       "|  3         | 0.2555808  | 0.6026588  | 0.1835885  | 0.02884978 | 0.07875032 | 0.02010413 | 0.2484271  | 0.6230872  | 0.1764341  | \n",
       "|  4         | 0.2443959  | 0.6358841  | 0.1741528  | 0.02808502 | 0.07712200 | 0.01842157 | 0.2383149  | 0.6531471  | 0.1683601  | \n",
       "|  5         | 0.2284280  | 0.6803315  | 0.1587133  | 0.03157019 | 0.08603907 | 0.02103806 | 0.2131813  | 0.7224500  | 0.1438064  | \n",
       "|  6         | 0.2223465  | 0.6975219  | 0.1538384  | 0.03070494 | 0.08177574 | 0.01925407 | 0.2124619  | 0.7243200  | 0.1450717  | \n",
       "|  7         | 0.2177125  | 0.7100870  | 0.1484483  | 0.02908912 | 0.07611478 | 0.01614699 | 0.2113829  | 0.7271130  | 0.1417871  | \n",
       "|  8         | 0.2085486  | 0.7347672  | 0.1418587  | 0.02465259 | 0.06417257 | 0.01328933 | 0.2001549  | 0.7553330  | 0.1346697  | \n",
       "|  9         | 0.1984373  | 0.7591913  | 0.1380014  | 0.02386845 | 0.05729907 | 0.01274869 | 0.1887829  | 0.7823452  | 0.1307096  | \n",
       "| 10         | 0.1967646  | 0.7633898  | 0.1381763  | 0.02347863 | 0.05791045 | 0.01226595 | 0.1864402  | 0.7877137  | 0.1302930  | \n",
       "| 11         | 0.1899104  | 0.7794412  | 0.1379786  | 0.02188443 | 0.05003886 | 0.01146303 | 0.1763143  | 0.8101468  | 0.1301219  | \n",
       "| 12         | 0.1869594  | 0.7862890  | 0.1375215  | 0.01990563 | 0.04537106 | 0.01099405 | 0.1750369  | 0.8128877  | 0.1299635  | \n",
       "| 13         | 0.1822979  | 0.7970211  | 0.1362717  | 0.01745905 | 0.04020374 | 0.01104838 | 0.1703318  | 0.8228120  | 0.1279263  | \n",
       "| 14         | 0.1768894  | 0.8089664  | 0.1313783  | 0.01623152 | 0.03799873 | 0.01010750 | 0.1649035  | 0.8339256  | 0.1227603  | \n",
       "\n",
       "\n"
      ],
      "text/plain": [
       "   ncomp RMSE      Rsquared  MAE       RMSESD     RsquaredSD MAESD     \n",
       "1   1    0.2863948 0.5009818 0.2126434 0.02515808 0.07118448 0.01657741\n",
       "2   2    0.2751841 0.5388360 0.2061874 0.02679436 0.07424027 0.01775282\n",
       "3   3    0.2555808 0.6026588 0.1835885 0.02884978 0.07875032 0.02010413\n",
       "4   4    0.2443959 0.6358841 0.1741528 0.02808502 0.07712200 0.01842157\n",
       "5   5    0.2284280 0.6803315 0.1587133 0.03157019 0.08603907 0.02103806\n",
       "6   6    0.2223465 0.6975219 0.1538384 0.03070494 0.08177574 0.01925407\n",
       "7   7    0.2177125 0.7100870 0.1484483 0.02908912 0.07611478 0.01614699\n",
       "8   8    0.2085486 0.7347672 0.1418587 0.02465259 0.06417257 0.01328933\n",
       "9   9    0.1984373 0.7591913 0.1380014 0.02386845 0.05729907 0.01274869\n",
       "10 10    0.1967646 0.7633898 0.1381763 0.02347863 0.05791045 0.01226595\n",
       "11 11    0.1899104 0.7794412 0.1379786 0.02188443 0.05003886 0.01146303\n",
       "12 12    0.1869594 0.7862890 0.1375215 0.01990563 0.04537106 0.01099405\n",
       "13 13    0.1822979 0.7970211 0.1362717 0.01745905 0.04020374 0.01104838\n",
       "14 14    0.1768894 0.8089664 0.1313783 0.01623152 0.03799873 0.01010750\n",
       "   RMSEApparent RsquaredApparent MAEApparent\n",
       "1  0.2846565    0.5051366        0.2109639  \n",
       "2  0.2715134    0.5497791        0.2036324  \n",
       "3  0.2484271    0.6230872        0.1764341  \n",
       "4  0.2383149    0.6531471        0.1683601  \n",
       "5  0.2131813    0.7224500        0.1438064  \n",
       "6  0.2124619    0.7243200        0.1450717  \n",
       "7  0.2113829    0.7271130        0.1417871  \n",
       "8  0.2001549    0.7553330        0.1346697  \n",
       "9  0.1887829    0.7823452        0.1307096  \n",
       "10 0.1864402    0.7877137        0.1302930  \n",
       "11 0.1763143    0.8101468        0.1301219  \n",
       "12 0.1750369    0.8128877        0.1299635  \n",
       "13 0.1703318    0.8228120        0.1279263  \n",
       "14 0.1649035    0.8339256        0.1227603  "
      ]
     },
     "metadata": {},
     "output_type": "display_data"
    }
   ],
   "source": [
    "pcr.bootstrap.model = PCRModel(training.data, 'boot632', 100)\n",
    "pcr.bootstrap.model$results"
   ]
  },
  {
   "cell_type": "code",
   "execution_count": 43,
   "metadata": {},
   "outputs": [
    {
     "data": {
      "text/html": [
       "0.214761101644916"
      ],
      "text/latex": [
       "0.214761101644916"
      ],
      "text/markdown": [
       "0.214761101644916"
      ],
      "text/plain": [
       "[1] 0.2147611"
      ]
     },
     "metadata": {},
     "output_type": "display_data"
    }
   ],
   "source": [
    "RMSE(pcr.bootstrap.model, test.data)"
   ]
  },
  {
   "cell_type": "markdown",
   "metadata": {},
   "source": [
    "*Does the number of selected components change?*"
   ]
  },
  {
   "cell_type": "code",
   "execution_count": 41,
   "metadata": {},
   "outputs": [
    {
     "data": {
      "text/html": [
       "14"
      ],
      "text/latex": [
       "14"
      ],
      "text/markdown": [
       "14"
      ],
      "text/plain": [
       "[1] 14"
      ]
     },
     "metadata": {},
     "output_type": "display_data"
    }
   ],
   "source": [
    "pcr.bootstrap.model$num.of.components"
   ]
  },
  {
   "cell_type": "markdown",
   "metadata": {},
   "source": [
    "*Report the estimate of the prediction error for each possible number of components.*"
   ]
  },
  {
   "cell_type": "markdown",
   "metadata": {},
   "source": [
    "### Regularized regression"
   ]
  },
  {
   "cell_type": "markdown",
   "metadata": {},
   "source": [
    "### 1.5 Ridge regression\n",
    "\n",
    "*Estimate the regression model by ridge regression, where the optimal tuning parameter λ is chosen by 10-fold cross-validation.*"
   ]
  },
  {
   "cell_type": "markdown",
   "metadata": {},
   "source": [
    "**TODO**: What are reasonable lambda values?"
   ]
  },
  {
   "cell_type": "code",
   "execution_count": 72,
   "metadata": {
    "collapsed": true
   },
   "outputs": [],
   "source": [
    "ridge.model = train(\n",
    "  y ~ .,\n",
    "  data = training.data,\n",
    "  method = \"glmnet\",\n",
    "  tuneGrid = expand.grid(\n",
    "    # alpha = 0: LM2\n",
    "    alpha = 0,\n",
    "    lambda = seq(0.00, 1.00, 0.01)\n",
    "  ),\n",
    "  trControl = trainControl(\n",
    "    method = 'cv',\n",
    "    number = 10\n",
    "  )\n",
    ")"
   ]
  },
  {
   "cell_type": "markdown",
   "metadata": {},
   "source": [
    "*Report the estimated coefficients, the obtained value of lambda and the prediction error computed on the test data.*"
   ]
  },
  {
   "cell_type": "code",
   "execution_count": 73,
   "metadata": {},
   "outputs": [
    {
     "data": {
      "text/html": [
       "<table>\n",
       "<thead><tr><th></th><th scope=col>1</th></tr></thead>\n",
       "<tbody>\n",
       "\t<tr><th scope=row>(Intercept)</th><td> 3.8771124229</td></tr>\n",
       "\t<tr><th scope=row>crim</th><td>-0.0080244317</td></tr>\n",
       "\t<tr><th scope=row>zn</th><td> 0.0008041282</td></tr>\n",
       "\t<tr><th scope=row>indus</th><td>-0.0002841339</td></tr>\n",
       "\t<tr><th scope=row>chas</th><td> 0.1359930995</td></tr>\n",
       "\t<tr><th scope=row>nox</th><td>-0.3888605767</td></tr>\n",
       "\t<tr><th scope=row>rm</th><td> 0.0965529950</td></tr>\n",
       "\t<tr><th scope=row>age</th><td>-0.0004318776</td></tr>\n",
       "\t<tr><th scope=row>dis</th><td>-0.0441903838</td></tr>\n",
       "\t<tr><th scope=row>rad</th><td> 0.0061303460</td></tr>\n",
       "\t<tr><th scope=row>tax</th><td>-0.0002416576</td></tr>\n",
       "\t<tr><th scope=row>ptratio</th><td>-0.0298469164</td></tr>\n",
       "\t<tr><th scope=row>bk</th><td>-0.3716559594</td></tr>\n",
       "\t<tr><th scope=row>lstat</th><td>-0.0309399065</td></tr>\n",
       "\t<tr><th scope=row>part</th><td>-0.0080482342</td></tr>\n",
       "</tbody>\n",
       "</table>\n"
      ],
      "text/latex": [
       "\\begin{tabular}{r|l}\n",
       "  & 1\\\\\n",
       "\\hline\n",
       "\t(Intercept) &  3.8771124229\\\\\n",
       "\tcrim & -0.0080244317\\\\\n",
       "\tzn &  0.0008041282\\\\\n",
       "\tindus & -0.0002841339\\\\\n",
       "\tchas &  0.1359930995\\\\\n",
       "\tnox & -0.3888605767\\\\\n",
       "\trm &  0.0965529950\\\\\n",
       "\tage & -0.0004318776\\\\\n",
       "\tdis & -0.0441903838\\\\\n",
       "\trad &  0.0061303460\\\\\n",
       "\ttax & -0.0002416576\\\\\n",
       "\tptratio & -0.0298469164\\\\\n",
       "\tbk & -0.3716559594\\\\\n",
       "\tlstat & -0.0309399065\\\\\n",
       "\tpart & -0.0080482342\\\\\n",
       "\\end{tabular}\n"
      ],
      "text/markdown": [
       "\n",
       "| <!--/--> | 1 | \n",
       "|---|---|---|---|---|---|---|---|---|---|---|---|---|---|---|\n",
       "| (Intercept) |  3.8771124229 | \n",
       "| crim | -0.0080244317 | \n",
       "| zn |  0.0008041282 | \n",
       "| indus | -0.0002841339 | \n",
       "| chas |  0.1359930995 | \n",
       "| nox | -0.3888605767 | \n",
       "| rm |  0.0965529950 | \n",
       "| age | -0.0004318776 | \n",
       "| dis | -0.0441903838 | \n",
       "| rad |  0.0061303460 | \n",
       "| tax | -0.0002416576 | \n",
       "| ptratio | -0.0298469164 | \n",
       "| bk | -0.3716559594 | \n",
       "| lstat | -0.0309399065 | \n",
       "| part | -0.0080482342 | \n",
       "\n",
       "\n"
      ],
      "text/plain": [
       "            1            \n",
       "(Intercept)  3.8771124229\n",
       "crim        -0.0080244317\n",
       "zn           0.0008041282\n",
       "indus       -0.0002841339\n",
       "chas         0.1359930995\n",
       "nox         -0.3888605767\n",
       "rm           0.0965529950\n",
       "age         -0.0004318776\n",
       "dis         -0.0441903838\n",
       "rad          0.0061303460\n",
       "tax         -0.0002416576\n",
       "ptratio     -0.0298469164\n",
       "bk          -0.3716559594\n",
       "lstat       -0.0309399065\n",
       "part        -0.0080482342"
      ]
     },
     "metadata": {},
     "output_type": "display_data"
    }
   ],
   "source": [
    "as.matrix(coef(ridge.model$finalModel, ridge.model$bestTune$lambda))"
   ]
  },
  {
   "cell_type": "code",
   "execution_count": 76,
   "metadata": {},
   "outputs": [
    {
     "data": {
      "text/html": [
       "0.03"
      ],
      "text/latex": [
       "0.03"
      ],
      "text/markdown": [
       "0.03"
      ],
      "text/plain": [
       "[1] 0.03"
      ]
     },
     "metadata": {},
     "output_type": "display_data"
    }
   ],
   "source": [
    "ridge.model$bestTune$lambda"
   ]
  },
  {
   "cell_type": "code",
   "execution_count": 77,
   "metadata": {},
   "outputs": [
    {
     "data": {
      "text/html": [
       "0.209529444176601"
      ],
      "text/latex": [
       "0.209529444176601"
      ],
      "text/markdown": [
       "0.209529444176601"
      ],
      "text/plain": [
       "[1] 0.2095294"
      ]
     },
     "metadata": {},
     "output_type": "display_data"
    }
   ],
   "source": [
    "RMSE(ridge.model, test.data)"
   ]
  },
  {
   "cell_type": "markdown",
   "metadata": {},
   "source": [
    "### 1.6 Lasso regression\n",
    "\n",
    "*Repeat the same procedure by using lasso and component-wise L2Boost. Use 10-fold cross-validation to find the optimal value for λ (lasso) and mstop (L2Boost), while set the boosting step size ν equal to 0.1.*"
   ]
  },
  {
   "cell_type": "markdown",
   "metadata": {},
   "source": [
    "##### Lasso"
   ]
  },
  {
   "cell_type": "code",
   "execution_count": 94,
   "metadata": {},
   "outputs": [
    {
     "name": "stderr",
     "output_type": "stream",
     "text": [
      "Warning message in nominalTrainWorkflow(x = x, y = y, wts = weights, info = trainInfo, :\n",
      "“There were missing values in resampled performance measures.”"
     ]
    }
   ],
   "source": [
    "set.seed(4030)\n",
    "lasso.model = train(\n",
    "  y ~ .,\n",
    "  data = training.data,\n",
    "  method = \"glmnet\",\n",
    "  tuneGrid = expand.grid(\n",
    "    # alpha = 1: L1 penalty\n",
    "    alpha = 1,\n",
    "    lambda = 10^seq(-5, 5, by = .1)\n",
    "  ),\n",
    "  trControl = trainControl(\n",
    "    method = 'cv',\n",
    "    number = 10\n",
    "  )\n",
    ")"
   ]
  },
  {
   "cell_type": "code",
   "execution_count": 95,
   "metadata": {},
   "outputs": [
    {
     "data": {
      "text/html": [
       "<table>\n",
       "<thead><tr><th></th><th scope=col>lambda</th></tr></thead>\n",
       "<tbody>\n",
       "\t<tr><th scope=row>25</th><td>0.002511886</td></tr>\n",
       "</tbody>\n",
       "</table>\n"
      ],
      "text/latex": [
       "\\begin{tabular}{r|l}\n",
       "  & lambda\\\\\n",
       "\\hline\n",
       "\t25 & 0.002511886\\\\\n",
       "\\end{tabular}\n"
      ],
      "text/markdown": [
       "\n",
       "| <!--/--> | lambda | \n",
       "|---|\n",
       "| 25 | 0.002511886 | \n",
       "\n",
       "\n"
      ],
      "text/plain": [
       "   lambda     \n",
       "25 0.002511886"
      ]
     },
     "metadata": {},
     "output_type": "display_data"
    }
   ],
   "source": [
    "lasso.model$bestTune['lambda']"
   ]
  },
  {
   "cell_type": "code",
   "execution_count": 96,
   "metadata": {},
   "outputs": [
    {
     "data": {
      "text/html": [
       "<table>\n",
       "<thead><tr><th></th><th scope=col>1</th></tr></thead>\n",
       "<tbody>\n",
       "\t<tr><th scope=row>(Intercept)</th><td> 4.1879395859</td></tr>\n",
       "\t<tr><th scope=row>crim</th><td>-0.0083739274</td></tr>\n",
       "\t<tr><th scope=row>zn</th><td> 0.0009906054</td></tr>\n",
       "\t<tr><th scope=row>indus</th><td> 0.0000000000</td></tr>\n",
       "\t<tr><th scope=row>chas</th><td> 0.1300856832</td></tr>\n",
       "\t<tr><th scope=row>nox</th><td>-0.4781236371</td></tr>\n",
       "\t<tr><th scope=row>rm</th><td> 0.0725376014</td></tr>\n",
       "\t<tr><th scope=row>age</th><td> 0.0000000000</td></tr>\n",
       "\t<tr><th scope=row>dis</th><td>-0.0537543990</td></tr>\n",
       "\t<tr><th scope=row>rad</th><td> 0.0087722543</td></tr>\n",
       "\t<tr><th scope=row>tax</th><td>-0.0003105098</td></tr>\n",
       "\t<tr><th scope=row>ptratio</th><td>-0.0321455843</td></tr>\n",
       "\t<tr><th scope=row>bk</th><td>-0.3735130862</td></tr>\n",
       "\t<tr><th scope=row>lstat</th><td>-0.0363663563</td></tr>\n",
       "\t<tr><th scope=row>part</th><td>-0.0060354801</td></tr>\n",
       "</tbody>\n",
       "</table>\n"
      ],
      "text/latex": [
       "\\begin{tabular}{r|l}\n",
       "  & 1\\\\\n",
       "\\hline\n",
       "\t(Intercept) &  4.1879395859\\\\\n",
       "\tcrim & -0.0083739274\\\\\n",
       "\tzn &  0.0009906054\\\\\n",
       "\tindus &  0.0000000000\\\\\n",
       "\tchas &  0.1300856832\\\\\n",
       "\tnox & -0.4781236371\\\\\n",
       "\trm &  0.0725376014\\\\\n",
       "\tage &  0.0000000000\\\\\n",
       "\tdis & -0.0537543990\\\\\n",
       "\trad &  0.0087722543\\\\\n",
       "\ttax & -0.0003105098\\\\\n",
       "\tptratio & -0.0321455843\\\\\n",
       "\tbk & -0.3735130862\\\\\n",
       "\tlstat & -0.0363663563\\\\\n",
       "\tpart & -0.0060354801\\\\\n",
       "\\end{tabular}\n"
      ],
      "text/markdown": [
       "\n",
       "| <!--/--> | 1 | \n",
       "|---|---|---|---|---|---|---|---|---|---|---|---|---|---|---|\n",
       "| (Intercept) |  4.1879395859 | \n",
       "| crim | -0.0083739274 | \n",
       "| zn |  0.0009906054 | \n",
       "| indus |  0.0000000000 | \n",
       "| chas |  0.1300856832 | \n",
       "| nox | -0.4781236371 | \n",
       "| rm |  0.0725376014 | \n",
       "| age |  0.0000000000 | \n",
       "| dis | -0.0537543990 | \n",
       "| rad |  0.0087722543 | \n",
       "| tax | -0.0003105098 | \n",
       "| ptratio | -0.0321455843 | \n",
       "| bk | -0.3735130862 | \n",
       "| lstat | -0.0363663563 | \n",
       "| part | -0.0060354801 | \n",
       "\n",
       "\n"
      ],
      "text/plain": [
       "            1            \n",
       "(Intercept)  4.1879395859\n",
       "crim        -0.0083739274\n",
       "zn           0.0009906054\n",
       "indus        0.0000000000\n",
       "chas         0.1300856832\n",
       "nox         -0.4781236371\n",
       "rm           0.0725376014\n",
       "age          0.0000000000\n",
       "dis         -0.0537543990\n",
       "rad          0.0087722543\n",
       "tax         -0.0003105098\n",
       "ptratio     -0.0321455843\n",
       "bk          -0.3735130862\n",
       "lstat       -0.0363663563\n",
       "part        -0.0060354801"
      ]
     },
     "metadata": {},
     "output_type": "display_data"
    }
   ],
   "source": [
    "as.matrix(coef(lasso.model$finalModel, lasso.model$bestTune$lambda))"
   ]
  },
  {
   "cell_type": "code",
   "execution_count": 97,
   "metadata": {},
   "outputs": [
    {
     "data": {
      "text/html": [
       "0.214643677229406"
      ],
      "text/latex": [
       "0.214643677229406"
      ],
      "text/markdown": [
       "0.214643677229406"
      ],
      "text/plain": [
       "[1] 0.2146437"
      ]
     },
     "metadata": {},
     "output_type": "display_data"
    }
   ],
   "source": [
    "RMSE(lasso.model, test.data)"
   ]
  },
  {
   "cell_type": "markdown",
   "metadata": {},
   "source": [
    "#### L2Boost"
   ]
  },
  {
   "cell_type": "code",
   "execution_count": 84,
   "metadata": {
    "collapsed": true,
    "scrolled": true
   },
   "outputs": [],
   "source": [
    "set.seed(4030)\n",
    "l2boost.models = glmboost(\n",
    "    y ~ .,\n",
    "    data = training.data,\n",
    "    family = Gaussian(),\n",
    "    # TODO: Why center data?\n",
    "    center = TRUE,\n",
    "    control = boost_control(\n",
    "        mstop = 5000,\n",
    "        # Step size\n",
    "        nu = 0.1\n",
    "    )\n",
    ")\n",
    "\n",
    "l2boost.cv = cvrisk(\n",
    "    l2boost.models,\n",
    "    folds = cv(\n",
    "        model.weights(l2boost.model2),\n",
    "        type = 'kfold',\n",
    "        B = 10\n",
    "    )\n",
    ")"
   ]
  },
  {
   "cell_type": "code",
   "execution_count": 85,
   "metadata": {},
   "outputs": [
    {
     "data": {
      "text/html": [
       "1543"
      ],
      "text/latex": [
       "1543"
      ],
      "text/markdown": [
       "1543"
      ],
      "text/plain": [
       "[1] 1543"
      ]
     },
     "metadata": {},
     "output_type": "display_data"
    }
   ],
   "source": [
    "l2boost.mstop = mstop(l2boost.cv)\n",
    "l2boost.mstop"
   ]
  },
  {
   "cell_type": "code",
   "execution_count": 86,
   "metadata": {},
   "outputs": [
    {
     "data": {
      "text/html": [
       "<dl class=dl-horizontal>\n",
       "\t<dt>(Intercept)</dt>\n",
       "\t\t<dd>1.26988939956474</dd>\n",
       "\t<dt>crim</dt>\n",
       "\t\t<dd>-0.00886662909137515</dd>\n",
       "\t<dt>zn</dt>\n",
       "\t\t<dd>0.00127426340983595</dd>\n",
       "\t<dt>indus</dt>\n",
       "\t\t<dd>0.00231286069309983</dd>\n",
       "\t<dt>chas</dt>\n",
       "\t\t<dd>0.131397413977016</dd>\n",
       "\t<dt>nox</dt>\n",
       "\t\t<dd>-0.581862276016574</dd>\n",
       "\t<dt>rm</dt>\n",
       "\t\t<dd>0.0730271467278847</dd>\n",
       "\t<dt>dis</dt>\n",
       "\t\t<dd>-0.059017641435882</dd>\n",
       "\t<dt>rad</dt>\n",
       "\t\t<dd>0.0122480653141245</dd>\n",
       "\t<dt>tax</dt>\n",
       "\t\t<dd>-0.000487226165345173</dd>\n",
       "\t<dt>ptratio</dt>\n",
       "\t\t<dd>-0.0337409496045365</dd>\n",
       "\t<dt>bk</dt>\n",
       "\t\t<dd>-0.388137086131841</dd>\n",
       "\t<dt>lstat</dt>\n",
       "\t\t<dd>-0.0367312690315587</dd>\n",
       "\t<dt>part</dt>\n",
       "\t\t<dd>-0.00788504539556553</dd>\n",
       "</dl>\n"
      ],
      "text/latex": [
       "\\begin{description*}\n",
       "\\item[(Intercept)] 1.26988939956474\n",
       "\\item[crim] -0.00886662909137515\n",
       "\\item[zn] 0.00127426340983595\n",
       "\\item[indus] 0.00231286069309983\n",
       "\\item[chas] 0.131397413977016\n",
       "\\item[nox] -0.581862276016574\n",
       "\\item[rm] 0.0730271467278847\n",
       "\\item[dis] -0.059017641435882\n",
       "\\item[rad] 0.0122480653141245\n",
       "\\item[tax] -0.000487226165345173\n",
       "\\item[ptratio] -0.0337409496045365\n",
       "\\item[bk] -0.388137086131841\n",
       "\\item[lstat] -0.0367312690315587\n",
       "\\item[part] -0.00788504539556553\n",
       "\\end{description*}\n"
      ],
      "text/markdown": [
       "(Intercept)\n",
       ":   1.26988939956474crim\n",
       ":   -0.00886662909137515zn\n",
       ":   0.00127426340983595indus\n",
       ":   0.00231286069309983chas\n",
       ":   0.131397413977016nox\n",
       ":   -0.581862276016574rm\n",
       ":   0.0730271467278847dis\n",
       ":   -0.059017641435882rad\n",
       ":   0.0122480653141245tax\n",
       ":   -0.000487226165345173ptratio\n",
       ":   -0.0337409496045365bk\n",
       ":   -0.388137086131841lstat\n",
       ":   -0.0367312690315587part\n",
       ":   -0.00788504539556553\n",
       "\n"
      ],
      "text/plain": [
       "  (Intercept)          crim            zn         indus          chas \n",
       " 1.2698893996 -0.0088666291  0.0012742634  0.0023128607  0.1313974140 \n",
       "          nox            rm           dis           rad           tax \n",
       "-0.5818622760  0.0730271467 -0.0590176414  0.0122480653 -0.0004872262 \n",
       "      ptratio            bk         lstat          part \n",
       "-0.0337409496 -0.3881370861 -0.0367312690 -0.0078850454 \n",
       "attr(,\"offset\")\n",
       "[1] 3.042633"
      ]
     },
     "metadata": {},
     "output_type": "display_data"
    }
   ],
   "source": [
    "l2boost.model = l2boost.models[l2boost.mstop]\n",
    "coef(l2boost.model)"
   ]
  },
  {
   "cell_type": "code",
   "execution_count": 83,
   "metadata": {},
   "outputs": [
    {
     "data": {
      "text/html": [
       "0.215298412884443"
      ],
      "text/latex": [
       "0.215298412884443"
      ],
      "text/markdown": [
       "0.215298412884443"
      ],
      "text/plain": [
       "[1] 0.2152984"
      ]
     },
     "metadata": {},
     "output_type": "display_data"
    }
   ],
   "source": [
    "RMSE(l2boost.model, test.data)"
   ]
  },
  {
   "cell_type": "markdown",
   "metadata": {},
   "source": [
    "### 1.7 Variable transformations\n",
    "\n",
    "*It has been argued that the predictors rm and dis do not have a linear effect on the outcome. Substitute the former with its cube and the latter with its inverse (dis-1) in the first model (OLS) and refit the model.*"
   ]
  },
  {
   "cell_type": "code",
   "execution_count": 87,
   "metadata": {
    "collapsed": true
   },
   "outputs": [],
   "source": [
    "TransformData = function(data) {\n",
    "  transformed.data = data\n",
    "  transformed.data$rm.cubed = data$rm^3\n",
    "  transformed.data$dis.inverse = data$dis^(-1)\n",
    "  transformed.data = AllColumnsExcept(transformed.data, c('rm', 'dis'))\n",
    "}"
   ]
  },
  {
   "cell_type": "code",
   "execution_count": 88,
   "metadata": {
    "collapsed": true
   },
   "outputs": [],
   "source": [
    "transformed.training.data = TransformData(training.data)\n",
    "transformed.test.data = TransformData(test.data)"
   ]
  },
  {
   "cell_type": "code",
   "execution_count": 89,
   "metadata": {
    "collapsed": true
   },
   "outputs": [],
   "source": [
    "transformed.model = lm(y ~ ., transformed.training.data)"
   ]
  },
  {
   "cell_type": "markdown",
   "metadata": {},
   "source": [
    "*Report the estimated coefficients.*"
   ]
  },
  {
   "cell_type": "code",
   "execution_count": 90,
   "metadata": {},
   "outputs": [
    {
     "data": {
      "text/html": [
       "<dl class=dl-horizontal>\n",
       "\t<dt>(Intercept)</dt>\n",
       "\t\t<dd>4.1498013458402</dd>\n",
       "\t<dt>crim</dt>\n",
       "\t\t<dd>-0.01291327125612</dd>\n",
       "\t<dt>zn</dt>\n",
       "\t\t<dd>-0.000356861499929769</dd>\n",
       "\t<dt>indus</dt>\n",
       "\t\t<dd>0.00197364739731775</dd>\n",
       "\t<dt>chas</dt>\n",
       "\t\t<dd>0.130642209359118</dd>\n",
       "\t<dt>nox</dt>\n",
       "\t\t<dd>-0.870134795848608</dd>\n",
       "\t<dt>age</dt>\n",
       "\t\t<dd>-0.000838144903598534</dd>\n",
       "\t<dt>rad</dt>\n",
       "\t\t<dd>0.0144924858150197</dd>\n",
       "\t<dt>tax</dt>\n",
       "\t\t<dd>-0.000631434702455221</dd>\n",
       "\t<dt>ptratio</dt>\n",
       "\t\t<dd>-0.0284772489532216</dd>\n",
       "\t<dt>bk</dt>\n",
       "\t\t<dd>-0.335077483082298</dd>\n",
       "\t<dt>lstat</dt>\n",
       "\t\t<dd>-0.0357424964689855</dd>\n",
       "\t<dt>part</dt>\n",
       "\t\t<dd>-0.0077779790464914</dd>\n",
       "\t<dt>rm.cubed</dt>\n",
       "\t\t<dd>0.000946863092070276</dd>\n",
       "\t<dt>dis.inverse</dt>\n",
       "\t\t<dd>0.961561890720034</dd>\n",
       "</dl>\n"
      ],
      "text/latex": [
       "\\begin{description*}\n",
       "\\item[(Intercept)] 4.1498013458402\n",
       "\\item[crim] -0.01291327125612\n",
       "\\item[zn] -0.000356861499929769\n",
       "\\item[indus] 0.00197364739731775\n",
       "\\item[chas] 0.130642209359118\n",
       "\\item[nox] -0.870134795848608\n",
       "\\item[age] -0.000838144903598534\n",
       "\\item[rad] 0.0144924858150197\n",
       "\\item[tax] -0.000631434702455221\n",
       "\\item[ptratio] -0.0284772489532216\n",
       "\\item[bk] -0.335077483082298\n",
       "\\item[lstat] -0.0357424964689855\n",
       "\\item[part] -0.0077779790464914\n",
       "\\item[rm.cubed] 0.000946863092070276\n",
       "\\item[dis.inverse] 0.961561890720034\n",
       "\\end{description*}\n"
      ],
      "text/markdown": [
       "(Intercept)\n",
       ":   4.1498013458402crim\n",
       ":   -0.01291327125612zn\n",
       ":   -0.000356861499929769indus\n",
       ":   0.00197364739731775chas\n",
       ":   0.130642209359118nox\n",
       ":   -0.870134795848608age\n",
       ":   -0.000838144903598534rad\n",
       ":   0.0144924858150197tax\n",
       ":   -0.000631434702455221ptratio\n",
       ":   -0.0284772489532216bk\n",
       ":   -0.335077483082298lstat\n",
       ":   -0.0357424964689855part\n",
       ":   -0.0077779790464914rm.cubed\n",
       ":   0.000946863092070276dis.inverse\n",
       ":   0.961561890720034\n",
       "\n"
      ],
      "text/plain": [
       "  (Intercept)          crim            zn         indus          chas \n",
       " 4.1498013458 -0.0129132713 -0.0003568615  0.0019736474  0.1306422094 \n",
       "          nox           age           rad           tax       ptratio \n",
       "-0.8701347958 -0.0008381449  0.0144924858 -0.0006314347 -0.0284772490 \n",
       "           bk         lstat          part      rm.cubed   dis.inverse \n",
       "-0.3350774831 -0.0357424965 -0.0077779790  0.0009468631  0.9615618907 "
      ]
     },
     "metadata": {},
     "output_type": "display_data"
    }
   ],
   "source": [
    "transformed.model$coefficients"
   ]
  },
  {
   "cell_type": "markdown",
   "metadata": {},
   "source": [
    "*Compute the prediction error on the test set and compare the result with that obtained at point 1.*"
   ]
  },
  {
   "cell_type": "code",
   "execution_count": 91,
   "metadata": {},
   "outputs": [
    {
     "data": {
      "text/html": [
       "0.210330935648759"
      ],
      "text/latex": [
       "0.210330935648759"
      ],
      "text/markdown": [
       "0.210330935648759"
      ],
      "text/plain": [
       "[1] 0.2103309"
      ]
     },
     "metadata": {},
     "output_type": "display_data"
    }
   ],
   "source": [
    "RMSE(transformed.model, transformed.test.data)"
   ]
  },
  {
   "cell_type": "code",
   "execution_count": 93,
   "metadata": {},
   "outputs": [
    {
     "ename": "ERROR",
     "evalue": "Error in eval(expr, envir, enclos): object 'lgr.prediction.error' not found\n",
     "output_type": "error",
     "traceback": [
      "Error in eval(expr, envir, enclos): object 'lgr.prediction.error' not found\nTraceback:\n"
     ]
    }
   ],
   "source": [
    "lgr.prediction.error"
   ]
  },
  {
   "cell_type": "markdown",
   "metadata": {},
   "source": [
    "The fit improved!\n",
    "\n",
    "TODO: Comment/test significance of difference\n",
    "\n",
    "F-test\n",
    "\n",
    "Plots"
   ]
  },
  {
   "cell_type": "code",
   "execution_count": null,
   "metadata": {
    "collapsed": true
   },
   "outputs": [],
   "source": []
  }
 ],
 "metadata": {
  "kernelspec": {
   "display_name": "R",
   "language": "R",
   "name": "ir"
  },
  "language_info": {
   "codemirror_mode": "r",
   "file_extension": ".r",
   "mimetype": "text/x-r-source",
   "name": "R",
   "pygments_lexer": "r",
   "version": "3.4.2"
  }
 },
 "nbformat": 4,
 "nbformat_minor": 2
}
